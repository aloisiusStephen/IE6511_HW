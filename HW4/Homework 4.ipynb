{
 "cells": [
  {
   "cell_type": "markdown",
   "metadata": {},
   "source": [
    "# IE6511 Homework 4\n",
    "Done by: Aloisius Stephen and Yang Xiaozhou"
   ]
  },
  {
   "cell_type": "code",
   "execution_count": null,
   "metadata": {
    "collapsed": true
   },
   "outputs": [],
   "source": [
    "import numpy as np\n",
    "import pandas as pd\n",
    "import matplotlib\n",
    "import matplotlib.pyplot as plt\n",
    "%matplotlib inline\n",
    "\n",
    "np.set_printoptions(precision=3)\n",
    "\n",
    "font = {'family' : 'sans-serif',\n",
    "        'weight' : 'normal',\n",
    "        'size'   : 12}\n",
    "\n",
    "matplotlib.rc('font', **font)"
   ]
  },
  {
   "cell_type": "markdown",
   "metadata": {
    "collapsed": true
   },
   "source": [
    "## Question 1\n",
    "a) 5 bits, since $0 \\geq x \\geq 31$ and 5 binary bits can represent up to 31 which is $z = 11111$\n",
    "\n",
    "b) Switching one of the 5 bit gives a neighborhood solution, so there are a total of 5 possible neighbourhood solutions."
   ]
  },
  {
   "cell_type": "markdown",
   "metadata": {},
   "source": [
    "## Question 2\n",
    "i) $10! = 3628800$\n",
    "\n",
    "ii) 9\n",
    "\n",
    "iii) k = 1 <br>\n",
    "Neighborhood: <br>\n",
    "(8 9 7 6 5 4 3 2 1 0) <br>\n",
    "(7 8 9 6 5 4 3 2 1 0) <br>\n",
    "(6 8 7 9 5 4 3 2 1 0) <br>\n",
    "(5 8 7 6 9 4 3 2 1 0) <br>\n",
    "(4 8 7 6 5 9 3 2 1 0) <br>\n",
    "(3 8 7 6 5 4 9 2 1 0) <br>\n",
    "(2 8 7 6 5 4 3 9 1 0) <br>\n",
    "(1 8 7 6 5 4 3 2 9 0) <br>\n",
    "(0 8 7 6 5 4 3 2 1 9) <br>\n",
    "\n",
    "iv) pairwise swap with k = 1\n",
    "\n",
    "v) 10\n",
    "\n",
    "vi) 10\n",
    "\n",
    "vii) $10 \\times 10 = 100$\n",
    "\n",
    "    "
   ]
  },
  {
   "cell_type": "markdown",
   "metadata": {
    "collapsed": true
   },
   "source": [
    "## Question 3\n",
    "a) Permutation, whereby the first 5 elements are on Chip1, and the next 5 elements are on Chip2. <br>\n",
    "Initial configuration: ( 6 7 8 9 10 1 2 3 4 5 )\n",
    "<br>\n",
    "\n",
    "<br>\n",
    "b) Neighborhood definition: choose one element from the first 5 elements, and swap it with one of the element from the second 5 elements. <br>\n",
    "Examples of feasible neighbours: <br>\n",
    "i. ( 6 **7** 8 9 10 1 2 **3** 4 5 ) $\\Rightarrow$ ( 6 **3** 8 9 10 1 2 **7** 4 5 ) <br>\n",
    "ii. ( 6 7 8 9 **10 1** 2 3 4 5 ) $\\Rightarrow$ ( 6 7 8 9 **1 10** 2 3 4 5 )\n",
    "<br>\n",
    "<br>\n",
    "There are a total of $5^2 = 25$ possible vectors in the neighborhood\n",
    "<br>\n",
    "<br>\n",
    "c) <br>\n",
    "Iteration <br>\n",
    "1: ( 6 7 8 9 10 1 2 3 4 5 ) initial value <br>\n",
    "2: ( **3** 7 8 9 10 1 2 **6** 4 5 ) after swapping cell 3 and 6<br>\n",
    "3: ( 3 7 8 **1** 10 **9** 2 6 4 5 ) after swapping cell 1 and 9<br>\n",
    "Tabu members of iteration 4: <br>\n",
    "i. ( 3 7 8 **9** 10 **1** 2 6 4 5 ) swap 1 and 9<br>\n",
    "ii.( **6** 7 8 1 10 9 2 **3** 4 5 ) swap 3 and 6"
   ]
  },
  {
   "cell_type": "code",
   "execution_count": null,
   "metadata": {
    "collapsed": true
   },
   "outputs": [],
   "source": []
  },
  {
   "cell_type": "code",
   "execution_count": null,
   "metadata": {
    "collapsed": true
   },
   "outputs": [],
   "source": []
  }
 ],
 "metadata": {
  "kernelspec": {
   "display_name": "Python 3",
   "language": "python",
   "name": "python3"
  },
  "language_info": {
   "codemirror_mode": {
    "name": "ipython",
    "version": 3
   },
   "file_extension": ".py",
   "mimetype": "text/x-python",
   "name": "python",
   "nbconvert_exporter": "python",
   "pygments_lexer": "ipython3",
   "version": "3.6.3"
  }
 },
 "nbformat": 4,
 "nbformat_minor": 2
}
