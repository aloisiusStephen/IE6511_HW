{
 "cells": [
  {
   "cell_type": "markdown",
   "metadata": {},
   "source": [
    "# IE6511 Homework 4\n",
    "Done by: Aloisius Stephen and Yang Xiaozhou"
   ]
  },
  {
   "cell_type": "code",
   "execution_count": 1,
   "metadata": {
    "collapsed": true
   },
   "outputs": [],
   "source": [
    "import numpy as np\n",
    "import pandas as pd\n",
    "import matplotlib\n",
    "import matplotlib.pyplot as plt\n",
    "%matplotlib inline\n",
    "\n",
    "np.set_printoptions(precision=3)\n",
    "\n",
    "font = {'family' : 'sans-serif',\n",
    "        'weight' : 'normal',\n",
    "        'size'   : 12}\n",
    "\n",
    "matplotlib.rc('font', **font)"
   ]
  },
  {
   "cell_type": "markdown",
   "metadata": {
    "collapsed": true
   },
   "source": [
    "## Question 1\n",
    "a) 5 bits, since $0 \\geq x \\geq 31$ and 5 binary bits can represent up to 31 which is $z = 11111$\n",
    "\n",
    "b) Switching one of the 5 bit gives a neighborhood solution, so there are a total of 5 possible neighbourhood solutions."
   ]
  },
  {
   "cell_type": "markdown",
   "metadata": {},
   "source": [
    "## Question 2\n",
    "i) $10! = 3628800$\n",
    "\n",
    "ii) 9\n",
    "\n",
    "iii) k = 1 <br>\n",
    "Neighborhood: <br>\n",
    "(8 9 7 6 5 4 3 2 1 0) <br>\n",
    "(7 8 9 6 5 4 3 2 1 0) <br>\n",
    "(6 8 7 9 5 4 3 2 1 0) <br>\n",
    "(5 8 7 6 9 4 3 2 1 0) <br>\n",
    "(4 8 7 6 5 9 3 2 1 0) <br>\n",
    "(3 8 7 6 5 4 9 2 1 0) <br>\n",
    "(2 8 7 6 5 4 3 9 1 0) <br>\n",
    "(1 8 7 6 5 4 3 2 9 0) <br>\n",
    "(0 8 7 6 5 4 3 2 1 9) <br>\n",
    "\n",
    "iv) pairwise swap with k = 1\n",
    "\n",
    "v) 10\n",
    "\n",
    "vi) 10\n",
    "\n",
    "vii) $10 \\times 10 = 100$\n",
    "\n",
    "    "
   ]
  },
  {
   "cell_type": "markdown",
   "metadata": {
    "collapsed": true
   },
   "source": [
    "## Question 3\n",
    "a) Permutation, whereby the first 5 elements are on Chip1, and the next 5 elements are on Chip2. <br>\n",
    "Initial configuration: ( 6 7 8 9 10 1 2 3 4 5 )\n",
    "<br>\n",
    "\n",
    "<br>\n",
    "b) Neighborhood definition: choose one element from the first 5 elements, and swap it with one of the element from the second 5 elements. <br>\n",
    "Examples of feasible neighbours: <br>\n",
    "i. ( 6 **7** 8 9 10 1 2 **3** 4 5 ) $\\Rightarrow$ ( 6 **3** 8 9 10 1 2 **7** 4 5 ) <br>\n",
    "ii. ( 6 7 8 9 **10 1** 2 3 4 5 ) $\\Rightarrow$ ( 6 7 8 9 **1 10** 2 3 4 5 )\n",
    "<br>\n",
    "<br>\n",
    "There are a total of $5^2 = 25$ possible vectors in the neighborhood\n",
    "<br>\n",
    "<br>\n",
    "c) <br>\n",
    "Iteration <br>\n",
    "1: ( 6 7 8 9 10 1 2 3 4 5 ) initial value <br>\n",
    "2: ( **3** 7 8 9 10 1 2 **6** 4 5 ) after swapping cell 3 and 6<br>\n",
    "3: ( 3 7 8 **1** 10 **9** 2 6 4 5 ) after swapping cell 1 and 9<br>\n",
    "Tabu members of iteration 4: <br>\n",
    "i. ( 3 7 8 **9** 10 **1** 2 6 4 5 ) swap 1 and 9<br>\n",
    "ii.( **6** 7 8 1 10 9 2 **3** 4 5 ) swap 3 and 6"
   ]
  },
  {
   "cell_type": "markdown",
   "metadata": {},
   "source": [
    "## Question 4"
   ]
  },
  {
   "cell_type": "code",
   "execution_count": null,
   "metadata": {
    "collapsed": true
   },
   "outputs": [],
   "source": []
  },
  {
   "attachments": {},
   "cell_type": "markdown",
   "metadata": {},
   "source": [
    "## Question 5\n",
    "a)\n",
    "![Q5nondominatedsolutions.JPG](https://github.com/aloisiusStephen/IE6511_HW/blob/master/HW4/Q5%20nondominated%20solutions.JPG?raw=true)\n",
    "\n",
    "There are 7 non-dominated solutions\n",
    "\n",
    "The tradeoff curve is not convex based on the current set of solutions.\n",
    "\n",
    "Yes because the pareto front generated through such a method will be convex, which may not apply to the true pareto front.\n",
    "\n",
    "b)\n",
    "School: <br>\n",
    "1. University of Disney Land non-dominated\n",
    "2. Bedlam College non-dominated \n",
    "3. Hard Knocks U non-dominated \n",
    "4. Space Cadet Academy dominated by University of Disney Land\n",
    "\n",
    "Therefore the Pareto-optimal set of schools is: <br>\n",
    "University of Disney Land, Bedlam College, Hard Knocks U "
   ]
  },
  {
   "cell_type": "markdown",
   "metadata": {
    "collapsed": true
   },
   "source": [
    "## Question 6\n",
    "a) Non-dominated sorting, fronts: <br>\n",
    "$F_1 = \\{ d,4,5 \\}$ <br>\n",
    "$F_2 = \\{ c,e,3,2 \\}$ <br> \n",
    "$F_3 = \\{ a,b,1 \\}$ <br>\n",
    "$F_4 = \\{ f\\}$ <br>\n",
    "$F_5 = \\{ 6\\}$ <br>\n",
    "\n",
    "The first 3 parents are taken from $F_1$ and then the other 3 are selected by the crowding distance.\n",
    "For f1, Crowding distance, $d_x$: <br>\n",
    "$d_c = \\infty$ Since c is boundary solution <br>\n",
    "$d_e = (f1^{(3)}-f1^{(c)}/(f1^{max}-f1^{min})= (8-4)/(20-0) = 0.2$ <br>\n",
    "$d_3 = (f1^{(2)}-f1^{(e)}/(f1^{max}-f1^{min})= (12-5)/(20-0) = 0.35$ <br>\n",
    "$d_2 = \\infty$ Since 2 is boundary solution<br>\n",
    "\n",
    "For f2, Crowding distance, $d_x$: <br>\n",
    "$d_c = \\infty$ Since c is boundary solution <br>\n",
    "$d_e = 0.2+(f2^{(3)}-f2^{(c)}/(f2^{max}-f2^{min})= 0.2+(4-1)/(10-0) = 0.5$ <br>\n",
    "$d_3 = 0.35+(f2^{(2)}-f2^{(e)}/(f2^{max}-f2^{min})= 0.35+(7-3)/(10-0) = 0.75$ <br>\n",
    "$d_2 = \\infty$ Since 2 is boundary solution <br>\n",
    "$\\Rightarrow d_c = d_2 > d_3 > d_e$\n",
    "\n",
    "Therefore $\\{ c,3,2\\}$ are selected from $F_2$ <br>\n",
    "The parent population for generation t+1 is $\\{d,4,5,c,3,2\\}$\n",
    "\n",
    "b) The mating pool is $\\{f,2,c,e,5,3\\}$ since the Front 1 will be picked given that it has a better rank than Front 2. Amongst the Front 2, $\\{e,5,3\\}$ are selected because they have the larger Crowding Distance values as compared to solution $a$. \n",
    "\n",
    "c)\n",
    "<table>\n",
    "  <tr>\n",
    "    <th> </th>\n",
    "    <th>1</th>\n",
    "    <th>2</th>\n",
    "    <th>3</th>\n",
    "    <th>4</th>\n",
    "  </tr>\n",
    "  <tr>\n",
    "    <td>1</td>\n",
    "    <td bgcolor = \"#000000\"> </td>\n",
    "    <td>Non-dominated</td>\n",
    "    <td>Non-dominated</td>\n",
    "    <td>1 dominates 4</td>\n",
    "  </tr>\n",
    "  <tr>\n",
    "    <td>2</td>\n",
    "    <td bgcolor = \"#000000\"> </td>\n",
    "    <td bgcolor = \"#000000\"> </td>\n",
    "    <td>Non-dominated</td>\n",
    "    <td>Non-dominated</td>\n",
    "  </tr>\n",
    "  <tr>\n",
    "    <td>3</td>\n",
    "    <td bgcolor = \"#000000\"> </td>\n",
    "    <td bgcolor = \"#000000\"> </td>\n",
    "    <td bgcolor = \"#000000\"> </td>\n",
    "    <td>Non-dominated</td>\n",
    "  </tr>\n",
    "  <tr>\n",
    "    <td>4</td>\n",
    "    <td bgcolor = \"#000000\"> </td>\n",
    "    <td bgcolor = \"#000000\"> </td>\n",
    "    <td bgcolor = \"#000000\"> </td>\n",
    "    <td bgcolor = \"#000000\"> </td>\n",
    "  </tr>\n",
    "</table>\n",
    "\n",
    "Therefore points 1,2,3 are the Pareto front since all of these points are non-dominated by any of the other points.\n"
   ]
  },
  {
   "cell_type": "code",
   "execution_count": null,
   "metadata": {
    "collapsed": true
   },
   "outputs": [],
   "source": []
  }
 ],
 "metadata": {
  "kernelspec": {
   "display_name": "Python 3",
   "language": "python",
   "name": "python3"
  },
  "language_info": {
   "codemirror_mode": {
    "name": "ipython",
    "version": 3
   },
   "file_extension": ".py",
   "mimetype": "text/x-python",
   "name": "python",
   "nbconvert_exporter": "python",
   "pygments_lexer": "ipython3",
   "version": "3.6.3"
  }
 },
 "nbformat": 4,
 "nbformat_minor": 2
}
