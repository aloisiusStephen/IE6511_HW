{
 "cells": [
  {
   "cell_type": "markdown",
   "metadata": {},
   "source": [
    "# IE6511 Homework 4\n",
    "Done by: Aloisius Stephen and Yang Xiaozhou"
   ]
  },
  {
   "cell_type": "code",
   "execution_count": null,
   "metadata": {
    "collapsed": true
   },
   "outputs": [],
   "source": [
    "import numpy as np\n",
    "import pandas as pd\n",
    "import matplotlib\n",
    "import matplotlib.pyplot as plt\n",
    "%matplotlib inline\n",
    "\n",
    "np.set_printoptions(precision=3)\n",
    "\n",
    "font = {'family' : 'sans-serif',\n",
    "        'weight' : 'normal',\n",
    "        'size'   : 12}\n",
    "\n",
    "matplotlib.rc('font', **font)"
   ]
  },
  {
   "cell_type": "markdown",
   "metadata": {
    "collapsed": true
   },
   "source": [
    "## Question 1\n",
    "a) 5 bits, since $0 \\geq x \\geq 31$ and 5 binary bits can represent up to 31 which is $z = 11111$\n",
    "\n",
    "b) Switching one of the 5 bit gives a neighborhood solution, so there are a total of 5 possible neighbourhood solutions."
   ]
  },
  {
   "cell_type": "markdown",
   "metadata": {},
   "source": [
    "## Question 2\n",
    "i) $10! = 3628800$\n",
    "\n",
    "ii) 9\n",
    "\n",
    "iii) k = 1 <br>\n",
    "Neighborhood: <br>\n",
    "(8 9 7 6 5 4 3 2 1 0) <br>\n",
    "(7 8 9 6 5 4 3 2 1 0) <br>\n",
    "(6 8 7 9 5 4 3 2 1 0) <br>\n",
    "(5 8 7 6 9 4 3 2 1 0) <br>\n",
    "(4 8 7 6 5 9 3 2 1 0) <br>\n",
    "(3 8 7 6 5 4 9 2 1 0) <br>\n",
    "(2 8 7 6 5 4 3 9 1 0) <br>\n",
    "(1 8 7 6 5 4 3 2 9 0) <br>\n",
    "(0 8 7 6 5 4 3 2 1 9) <br>\n",
    "\n",
    "iv) pairwise swap with k = 1\n",
    "\n",
    "v) 10\n",
    "\n",
    "vi) 10\n",
    "\n",
    "vii) $10 \\times 10 = 100$\n",
    "\n",
    "    "
   ]
  },
  {
   "cell_type": "code",
   "execution_count": null,
   "metadata": {
    "collapsed": true
   },
   "outputs": [],
   "source": []
  },
  {
   "cell_type": "code",
   "execution_count": null,
   "metadata": {
    "collapsed": true
   },
   "outputs": [],
   "source": []
  },
  {
   "cell_type": "code",
   "execution_count": null,
   "metadata": {
    "collapsed": true
   },
   "outputs": [],
   "source": []
  }
 ],
 "metadata": {
  "kernelspec": {
   "display_name": "Python 3",
   "language": "python",
   "name": "python3"
  },
  "language_info": {
   "codemirror_mode": {
    "name": "ipython",
    "version": 3
   },
   "file_extension": ".py",
   "mimetype": "text/x-python",
   "name": "python",
   "nbconvert_exporter": "python",
   "pygments_lexer": "ipython3",
   "version": "3.6.3"
  }
 },
 "nbformat": 4,
 "nbformat_minor": 2
}
