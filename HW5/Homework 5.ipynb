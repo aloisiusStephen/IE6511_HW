{
 "cells": [
  {
   "cell_type": "markdown",
   "metadata": {},
   "source": [
    "# IE6511 Homework 5\n",
    "Done by: Aloisius Stephen and Yang Xiaozhou"
   ]
  },
  {
   "cell_type": "code",
   "execution_count": null,
   "metadata": {
    "collapsed": true
   },
   "outputs": [],
   "source": [
    "font = {'family' : 'sans-serif',\n",
    "        'weight' : 'normal',\n",
    "        'size'   : 12}"
   ]
  },
  {
   "cell_type": "markdown",
   "metadata": {},
   "source": [
    "## 1. Parallel Computing (no computer code) \n",
    "__a.__ With 20 processors, in the fitness function evaluation we can distribute the calculation to 1 offspring for each processor. This means it will take $T_F$ seconds for fitness evaluation. <br>\n",
    "Therefore, <br>\n",
    "\\begin{align}\n",
    "\\text{Time taken per generation} & = \\text{GA serial calcuations} + \\text{Communication time}+ T_F + \\text{Communication time} \\\\\n",
    "& = 50 + 10 + 50 + 10\\\\\n",
    "&= 120 \\; seconds\\\\\n",
    "\\end{align}\n",
    "So the wall clock time for the GA algorithm (with 100 generations) is $120 \\times 100 = 12,000 \\; seconds$ <br>\n",
    "\n",
    "With only 1 processor,\n",
    "\\begin{align}\n",
    "\\text{Serial Wall clock time} & = 100 \\times (\\text{GA serial calcuations} + 20 \\times T_F)\\\\\n",
    "& = 100  \\times ( 50 + 20\\times 50) \\\\\n",
    "&= 105,000\\; seconds\\\\\n",
    "\\end{align} \n",
    "Thus the speedup is,\n",
    "\\begin{align}\n",
    "\\frac{\\text{Serial Wall Clock Time} }{\\text{Wall clock time with 20 processors}} &= \\frac{105,000}{12,000}\\\\\n",
    "& = 8.75\n",
    "\\end{align}\n",
    "<br>\n",
    "\n",
    "__b.__ Since there are only 20 offsprings per generation, having 22 processors does not allow us to distribute the calculations any better than if we have 20 processors. Therefore with 22 processors the Wall clock time and speedup will be the same at 12,000 seconds and 8.75 respectively.\n",
    "<br>\n",
    " \n",
    "__c.__ On 20 processors, to attain at least 80% efficiency:\n",
    "\\begin{align}\n",
    "\\frac{\\text{Serial Wall Clock Time} }{\\text{Wall clock time with 20 processors}} \\div 20 &\\geq 80\\% \\\\\n",
    "\\frac{100  \\times ( 50 + 20\\times T_F) }{100 \\times (50 + 10 + T_F + 10) } \\div 20 &\\geq 80\\% \\\\\n",
    "50 + 20T_F \\geq 16(70+T_F)\\\\\n",
    "4T_F \\geq 1070\\\\\n",
    "T_F \\geq 267.5\n",
    "\\end{align}\n",
    "Therefore the range has to be $T_F \\geq 267.5 \\; seconds$ \n",
    "<br>\n",
    "<br>\n",
    "As for 22 processors, to attain at least 80% efficiency:\n",
    "\\begin{align}\n",
    "\\frac{\\text{Serial Wall Clock Time} }{\\text{Wall clock time with 22 processors}} \\div 22 &\\geq 80\\% \\\\\n",
    "\\frac{100  \\times ( 50 + 20\\times T_F) }{100 \\times (50 + 10 + T_F + 10) } \\div 22 &\\geq 80\\% \\\\\n",
    "50 + 20T_F \\geq 17.6(70+T_F)\\\\\n",
    "2.4T_F \\geq 1182\\\\\n",
    "T_F \\geq 492.5\n",
    "\\end{align}\n",
    "Therefore the range has to be $T_F \\geq 492.5 \\; seconds$ which is larger than the range with 20 processors because the Wall clock time with 22 processors is equal to the Wall clock time with 20 processors, but due to the larger number of processors the calculation time which can be parallelized has to be longer so that the efficiency can be at least 80%."
   ]
  },
  {
   "cell_type": "code",
   "execution_count": null,
   "metadata": {
    "collapsed": true
   },
   "outputs": [],
   "source": []
  }
 ],
 "metadata": {
  "kernelspec": {
   "display_name": "Python 3",
   "language": "python",
   "name": "python3"
  },
  "language_info": {
   "codemirror_mode": {
    "name": "ipython",
    "version": 3
   },
   "file_extension": ".py",
   "mimetype": "text/x-python",
   "name": "python",
   "nbconvert_exporter": "python",
   "pygments_lexer": "ipython3",
   "version": "3.6.3"
  }
 },
 "nbformat": 4,
 "nbformat_minor": 2
}
