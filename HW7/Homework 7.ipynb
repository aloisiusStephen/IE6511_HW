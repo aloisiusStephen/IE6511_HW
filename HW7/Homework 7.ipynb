{
 "cells": [
  {
   "cell_type": "markdown",
   "metadata": {},
   "source": [
    "# IE6511 Homework 7\n",
    "Done by: Aloisius Stephen and Yang Xiaozhou"
   ]
  },
  {
   "cell_type": "code",
   "execution_count": 2,
   "metadata": {
    "collapsed": true
   },
   "outputs": [],
   "source": [
    "import numpy as np\n",
    "import pandas as pd\n",
    "import matplotlib\n",
    "import matplotlib.pyplot as plt\n",
    "from pySOT import *\n",
    "from poap.controller import SerialController, ThreadController, BasicWorkerThread\n",
    "from pySOT import Ackley, SyncStrategyNoConstraints, \\\n",
    "    SymmetricLatinHypercube, RBFInterpolant, CubicKernel, \\\n",
    "    LinearTail, CandidateDYCORS\n",
    "\n",
    "%matplotlib inline\n",
    "\n",
    "np.set_printoptions(precision=3)\n",
    "\n",
    "font = {'family' : 'sans-serif',\n",
    "        'weight' : 'normal',\n",
    "        'size'   : 12}\n",
    "\n",
    "matplotlib.rc('font', **font)"
   ]
  },
  {
   "attachments": {},
   "cell_type": "markdown",
   "metadata": {
    "collapsed": true
   },
   "source": [
    "## 1. Performances of DDS, LMSRBF (PySOT) and G-MSRBF (PySOT) on the “Ackley” function, within a limited evaluation budget \n",
    "\n",
    "### (a)\tImplement the DDS algorithm to minimize 20-variable Ackley function. Run 20 trials of 200 cost function evaluations. Save all the best solutions at the end of each trial. Plot the average best Ackley function value over the 20 trials vs. function evaluations, and save the data for this plot as you will add to it in subsequent parts. Please note that you have already done a similar experiment in HW3."
   ]
  },
  {
   "cell_type": "code",
   "execution_count": 14,
   "metadata": {
    "collapsed": true
   },
   "outputs": [],
   "source": [
    "data = Ackley(dim=20)\n",
    "trial = 20\n",
    "maxeval = 200"
   ]
  },
  {
   "cell_type": "markdown",
   "metadata": {},
   "source": [
    "DDS function taken from HW4"
   ]
  },
  {
   "cell_type": "code",
   "execution_count": 15,
   "metadata": {
    "collapsed": true
   },
   "outputs": [],
   "source": [
    "def DDS(x_min,x_max,m,x_initial):\n",
    "    r=0.2\n",
    "    sBest=x_initial\n",
    "    sCur=x_initial\n",
    "    CostBest=data.objfunction(sBest)\n",
    "    dimen=np.size(x_initial)\n",
    "    Cost_iter = np.zeros(m)\n",
    "    Iter = np.zeros(m)\n",
    "    x_range=x_max-x_min\n",
    "    k=0\n",
    "    \n",
    "    for i in range(0,m):\n",
    "        sCur=sBest\n",
    "        Iter[i] = np.int(i+1)\n",
    "        Cost_iter[i]=CostBest\n",
    "        for j in range(0,dimen):\n",
    "            if (np.random.rand(1)<(1-(np.log(i+1)/np.log(m+1)))):\n",
    "                k=k+1\n",
    "                sCur[j]=sBest[j]+np.random.randn(1,1)*r*(x_range)\n",
    "                if(sCur[j]<x_min):\n",
    "                    sCur[j]=x_min+(x_min-sCur[j])\n",
    "                    if(sCur[j]>x_max):\n",
    "                        sCur[j]=x_min\n",
    "                        \n",
    "                if(sCur[j]>x_max):\n",
    "                    sCur[j]=x_max-(sCur[j]-x_max)\n",
    "                    if(sCur[j]<x_min):\n",
    "                        sCur[j]=x_max\n",
    "        \n",
    "            if(k==0):\n",
    "                index=np.random.randint(0,dimen)\n",
    "                sCur[index]=sBest[index]+np.random.randn(1,1)*r*(x_range)\n",
    "                if(sCur[index]<x_min):\n",
    "                    sCur[index]=x_min+(x_min-sCur[index])\n",
    "                    if(sCur[index]>x_max):\n",
    "                        sCur[index]=x_min\n",
    "                            \n",
    "                if(sCur[index]>x_max):\n",
    "                    sCur[index]=x_max-(sCur[index]-x_max)\n",
    "                    if(sCur[index]<x_min):\n",
    "                        sCur[index]=x_max\n",
    "            k=0\n",
    "            \n",
    "            # Update sBest and CostBest if sCur has lower cost\n",
    "            if(data.objfunction(sCur)<CostBest):\n",
    "                sBest=sCur\n",
    "                CostBest=data.objfunction(sBest)\n",
    "    sol = pd.DataFrame(np.column_stack((Iter,Cost_iter)), columns = ['Iteration','Cost'])\n",
    "    return sol "
   ]
  },
  {
   "cell_type": "code",
   "execution_count": 19,
   "metadata": {},
   "outputs": [
    {
     "data": {
      "image/png": "[encoded data removed]",
      "text/plain": [
       "<matplotlib.figure.Figure at 0x11df0de10>"
      ]
     },
     "metadata": {},
     "output_type": "display_data"
    }
   ],
   "source": [
    "x_init = 10*np.random.rand(data.dim)\n",
    "\n",
    "Trial_best_DDS = DDS(0,10,maxeval,x_init)\n",
    "\n",
    "for i  in range(1,trial):\n",
    "    Trial_best_DDS = Trial_best_DDS.append(DDS(0,10,maxeval,x_init))\n",
    "\n",
    "#average of Best_Cost plot\n",
    "plt.figure(figsize=[10,8])\n",
    "plt.plot(Trial_best_DDS.groupby('Iteration').mean().Cost, '--')\n",
    "plt.xlabel('Iteration/Function evaluation')\n",
    "plt.ylabel('Cost')\n",
    "plt.legend(['Best_Cost'])\n",
    "plt.tight_layout()"
   ]
  },
  {
   "cell_type": "markdown",
   "metadata": {},
   "source": [
    "LMSRBF"
   ]
  },
  {
   "cell_type": "code",
   "execution_count": 59,
   "metadata": {},
   "outputs": [
    {
     "name": "stdout",
     "output_type": "stream",
     "text": [
      "\n",
      "Number of threads: 4\n",
      "Maximum number of evaluations: 200\n",
      "Sampling method: CandidateSRBF\n",
      "Experimental design: Symmetric Latin Hypercube\n",
      "Surrogate: Cubic RBF\n",
      "20-dimensional Ackley function \n",
      "Global optimum: f(0,0,...,0) = 0\n"
     ]
    }
   ],
   "source": [
    "print(\"\\nNumber of threads: 4\")\n",
    "print(\"Maximum number of evaluations: 200\")\n",
    "print(\"Sampling method: CandidateSRBF\")\n",
    "print(\"Experimental design: Symmetric Latin Hypercube\")\n",
    "print(\"Surrogate: Cubic RBF\")\n",
    "\n",
    "nthreads = 4\n",
    "maxeval = 200\n",
    "nsamples = nthreads\n",
    "\n",
    "print(data.info)\n",
    "\n",
    "# Create a strategy and a controller\n",
    "controller = ThreadController()\n",
    "controller.strategy = \\\n",
    "    SyncStrategyNoConstraints(\n",
    "        worker_id=0, data=data,\n",
    "        maxeval=maxeval, nsamples=nsamples,\n",
    "        exp_design=SymmetricLatinHypercube(dim=data.dim, npts=2*(data.dim+1)),\n",
    "        response_surface=RBFInterpolant(kernel=CubicKernel, tail=LinearTail,\n",
    "                                        maxp=maxeval),\n",
    "        sampling_method=CandidateSRBF(data=data, numcand=100*data.dim))\n",
    "\n",
    "# Launch the threads and give them access to the objective function\n",
    "for _ in range(nthreads):\n",
    "    worker = BasicWorkerThread(controller, data.objfunction)\n",
    "    controller.launch_worker(worker)\n",
    "\n",
    "# Run the optimization strategy\n",
    "result = controller.run()\n",
    "\n",
    "Iter = np.arange(1,maxeval+1)\n",
    "Trial_best_LMSRBF = np.column_stack((Iter,np.minimum.accumulate(fvals)))\n",
    "\n",
    "# Run the rest of the trials (19 trials)\n",
    "for i  in range(1,trial):\n",
    "    result = controller.run()\n",
    "    fvals = np.array([o.value for o in controller.fevals])\n",
    "    Trial_best_LMSRBF = np.concatenate((Trial_best_LMSRBF, \n",
    "                                        np.column_stack((Iter,np.minimum.accumulate(fvals)))), axis=0)\n",
    "    \n",
    "Trial_best_LMSRBF_df = pd.DataFrame(Trial_best_LMSRBF, columns = ['Iteration','Cost'])"
   ]
  },
  {
   "cell_type": "code",
   "execution_count": 64,
   "metadata": {},
   "outputs": [
    {
     "data": {
      "image/png": "[encoded data removed]",
      "text/plain": [
       "<matplotlib.figure.Figure at 0x11e19bd68>"
      ]
     },
     "metadata": {},
     "output_type": "display_data"
    }
   ],
   "source": [
    "#average of Best_Cost plot\n",
    "plt.figure(figsize=[10,8])\n",
    "plt.plot(Trial_best_DDS.groupby('Iteration').mean().Cost, '->')\n",
    "plt.plot(Trial_best_LMSRBF_df.groupby('Iteration').mean().Cost, '-.')\n",
    "plt.xlabel('Iteration/Function evaluation')\n",
    "plt.ylabel('Cost')\n",
    "plt.legend(['Best_Cost_LMSRBF', 'Best_Cost_DDS'])\n",
    "plt.tight_layout()"
   ]
  },
  {
   "cell_type": "markdown",
   "metadata": {},
   "source": [
    "G-MSRBF"
   ]
  },
  {
   "cell_type": "code",
   "execution_count": null,
   "metadata": {
    "collapsed": true
   },
   "outputs": [],
   "source": []
  },
  {
   "cell_type": "markdown",
   "metadata": {
    "collapsed": true
   },
   "source": [
    "## 2.\tUsing PySOT with different Surrogate Models on the “Ackley” Function (10 points)"
   ]
  },
  {
   "cell_type": "code",
   "execution_count": null,
   "metadata": {
    "collapsed": true
   },
   "outputs": [],
   "source": []
  },
  {
   "cell_type": "code",
   "execution_count": null,
   "metadata": {
    "collapsed": true
   },
   "outputs": [],
   "source": []
  },
  {
   "cell_type": "markdown",
   "metadata": {},
   "source": [
    "## 3.\tWhat are the differences between Global Metric RBF and Local Metric RBF in Regis and Shoemaker (2007)?  Give a succinct list of the ways in which they are different. (5 points)\t"
   ]
  },
  {
   "cell_type": "markdown",
   "metadata": {},
   "source": [
    "Differences: <br>\n",
    "1. **Candidate points generation:** <br>\n",
    "    For Global Metric RBF the set of candidate points are generated uniformly at random throughout the domain. <br>\n",
    "    Under the Local Metric RBF the set of candidate points are generated by adding random perturbation to all the coordinates of the current best solution.\n",
    "    \n",
    "2. **Global search:** <br>\n",
    "    Global Metric RBF carries this out by having a high weight for the distance criterion at the start of its weight cycle. <br> \n",
    "    Local Metric RBF does this by having a restart, which is achieved through reinitializing with a different experimental design when the number of consecutive failed iterations exceed a threshold parameter."
   ]
  },
  {
   "cell_type": "code",
   "execution_count": null,
   "metadata": {
    "collapsed": true
   },
   "outputs": [],
   "source": []
  }
 ],
 "metadata": {
  "kernelspec": {
   "display_name": "Python 3",
   "language": "python",
   "name": "python3"
  },
  "language_info": {
   "codemirror_mode": {
    "name": "ipython",
    "version": 3
   },
   "file_extension": ".py",
   "mimetype": "text/x-python",
   "name": "python",
   "nbconvert_exporter": "python",
   "pygments_lexer": "ipython3",
   "version": "3.6.2"
  }
 },
 "nbformat": 4,
 "nbformat_minor": 2
}
