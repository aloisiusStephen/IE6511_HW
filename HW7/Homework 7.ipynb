{
 "cells": [
  {
   "cell_type": "markdown",
   "metadata": {},
   "source": [
    "# IE6511 Homework 7\n",
    "Done by: Aloisius Stephen and Yang Xiaozhou"
   ]
  },
  {
   "cell_type": "code",
   "execution_count": 7,
   "metadata": {
    "collapsed": true
   },
   "outputs": [],
   "source": [
    "import numpy as np\n",
    "import pandas as pd\n",
    "import matplotlib\n",
    "import matplotlib.pyplot as plt\n",
    "from pySOT import *\n",
    "from poap.controller import SerialController, ThreadController, BasicWorkerThread\n",
    "%matplotlib inline\n",
    "\n",
    "np.set_printoptions(precision=3)\n",
    "\n",
    "font = {'family' : 'sans-serif',\n",
    "        'weight' : 'normal',\n",
    "        'size'   : 12}\n",
    "\n",
    "matplotlib.rc('font', **font)"
   ]
  },
  {
   "cell_type": "markdown",
   "metadata": {
    "collapsed": true
   },
   "source": [
    "## 1. Performances of DDS, LMSRBF (PySOT) and G-MSRBF (PySOT) on the “Ackley” function, within a limited evaluation budget \n",
    "\n",
    "DDS function taken from HW4"
   ]
  },
  {
   "cell_type": "code",
   "execution_count": null,
   "metadata": {
    "collapsed": true
   },
   "outputs": [],
   "source": [
    "def DDS(x_min,x_max,m,x_initial):\n",
    "    r=0.2\n",
    "    sBest=x_initial\n",
    "    sCur=x_initial\n",
    "    CostBest=bump(sBest)\n",
    "    dimen=np.size(x_initial)\n",
    "    Cost_iter = np.zeros(m)\n",
    "    Iter = np.zeros(m)\n",
    "    x_range=x_max-x_min\n",
    "    k=0\n",
    "    \n",
    "    for i in range(0,m):\n",
    "        sCur=sBest\n",
    "        Iter[i] = np.int(i+1)\n",
    "        Cost_iter[i]=CostBest\n",
    "        for j in range(0,dimen):\n",
    "            if (np.random.rand(1)<(1-(np.log(i+1)/np.log(m+1)))):\n",
    "                k=k+1\n",
    "                sCur[j]=sBest[j]+np.random.randn(1,1)*r*(x_range)\n",
    "                if(sCur[j]<x_min):\n",
    "                    sCur[j]=x_min+(x_min-sCur[j])\n",
    "                    if(sCur[j]>x_max):\n",
    "                        sCur[j]=x_min\n",
    "                        \n",
    "                if(sCur[j]>x_max):\n",
    "                    sCur[j]=x_max-(sCur[j]-x_max)\n",
    "                    if(sCur[j]<x_min):\n",
    "                        sCur[j]=x_max\n",
    "        \n",
    "            if(k==0):\n",
    "                index=np.random.randint(0,dimen)\n",
    "                sCur[index]=sBest[index]+np.random.randn(1,1)*r*(x_range)\n",
    "                if(sCur[index]<x_min):\n",
    "                    sCur[index]=x_min+(x_min-sCur[index])\n",
    "                    if(sCur[index]>x_max):\n",
    "                        sCur[index]=x_min\n",
    "                            \n",
    "                if(sCur[index]>x_max):\n",
    "                    sCur[index]=x_max-(sCur[index]-x_max)\n",
    "                    if(sCur[index]<x_min):\n",
    "                        sCur[index]=x_max\n",
    "            k=0\n",
    "            if(bump(sCur)>CostBest):\n",
    "                sBest=sCur\n",
    "                CostBest=bump(sBest)\n",
    "    sol = pd.DataFrame(np.column_stack((Iter,Cost_iter)), columns = ['Iteration','Cost'])\n",
    "    return sol "
   ]
  },
  {
   "cell_type": "code",
   "execution_count": null,
   "metadata": {
    "collapsed": true
   },
   "outputs": [],
   "source": []
  }
 ],
 "metadata": {
  "kernelspec": {
   "display_name": "Python 3",
   "language": "python",
   "name": "python3"
  },
  "language_info": {
   "codemirror_mode": {
    "name": "ipython",
    "version": 3
   },
   "file_extension": ".py",
   "mimetype": "text/x-python",
   "name": "python",
   "nbconvert_exporter": "python",
   "pygments_lexer": "ipython3",
   "version": "3.6.3"
  }
 },
 "nbformat": 4,
 "nbformat_minor": 2
}
