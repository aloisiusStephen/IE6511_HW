{
 "cells": [
  {
   "cell_type": "markdown",
   "metadata": {},
   "source": [
    "# IE6511 Homework 8\n",
    "Done by: Aloisius Stephen and Yang Xiaozhou"
   ]
  },
  {
   "cell_type": "code",
   "execution_count": 1,
   "metadata": {
    "collapsed": true
   },
   "outputs": [],
   "source": [
    "import numpy as np\n",
    "import pandas as pd\n",
    "import matplotlib\n",
    "import matplotlib.pyplot as plt\n",
    "from pySOT import *\n",
    "from poap.controller import SerialController, ThreadController, BasicWorkerThread\n",
    "%matplotlib inline\n",
    "np.random.seed(6511)\n",
    "np.set_printoptions(precision=3)\n",
    "\n",
    "font = {'family' : 'sans-serif',\n",
    "        'weight' : 'normal',\n",
    "        'size'   : 12}\n",
    "\n",
    "matplotlib.rc('font', **font)"
   ]
  },
  {
   "cell_type": "markdown",
   "metadata": {
    "collapsed": true
   },
   "source": [
    "## 1. Using PySOT with constraint handling on Keane’s Bump function (10 Points)"
   ]
  },
  {
   "cell_type": "markdown",
   "metadata": {
    "collapsed": true
   },
   "source": [
    "a) Keane's Bump with self-implementation of penalty function"
   ]
  },
  {
   "cell_type": "code",
   "execution_count": 32,
   "metadata": {
    "collapsed": true
   },
   "outputs": [],
   "source": [
    "class KeaneConsPenalty:\n",
    "    def __init__(self, dim=20):\n",
    "        self.xlow = np.zeros(dim)\n",
    "        self.xup = 5 * np.ones(dim)\n",
    "        self.dim = dim\n",
    "        self.min = -0.835\n",
    "        self.integer = []\n",
    "        self.continuous = np.arange(0, dim)\n",
    "        self.info = str(dim)+\"-dimensional Keane bump function \\n\" +\\\n",
    "                             \"Global optimum: -0.835 for large n\"\n",
    "\n",
    "    # Evaluate the objective function for a single data point\n",
    "    def objfunction(self, x):\n",
    "        \"\"\"Evaluate the Keane function  at x\n",
    "\n",
    "        :param x: Data point\n",
    "        :return: Value at x\n",
    "        \"\"\"\n",
    "        n = len(x)\n",
    "        f = -abs((sum(np.cos(x)**4)-2 * np.prod(np.cos(x)**2)) /\n",
    "                    max([1E-10, np.sqrt(np.dot(1+np.arange(n), x**2))]))\n",
    "        p = np.power(10,6)*(np.maximum(0,0.75 - np.prod(x)) \n",
    "                    + np.maximum(0,np.sum(x) - 7.5 * self.dim))\n",
    "        return f + p"
   ]
  },
  {
   "cell_type": "code",
   "execution_count": 46,
   "metadata": {},
   "outputs": [
    {
     "name": "stdout",
     "output_type": "stream",
     "text": [
      "\n",
      "Number of threads: 1\n",
      "Maximum number of evaluations: 300\n",
      "Search strategy: CandidateDYCORS\n",
      "Experimental design: Latin Hypercube\n",
      "Surrogate: Cubic RBF, domain scaled to unit box\n",
      "20-dimensional Keane bump function \n",
      "Global optimum: -0.835 for large n\n",
      "Best value: -0.5034027949555212\n",
      "Best solution: [ 4.44808  3.10215  1.52995  2.94438  0.52536  3.31293  3.23581  2.92644  0.5206   0.85817  0.11614  0.35551  3.29669  0.73814  0.1058   2.72263  0.14263  0.62809  0.35631  2.99576]\n"
     ]
    },
    {
     "data": {
      "image/png": "[encoded data removed]",
      "text/plain": [
       "<matplotlib.figure.Figure at 0x1e4c72c2a58>"
      ]
     },
     "metadata": {},
     "output_type": "display_data"
    }
   ],
   "source": [
    "nthreads = 1 # serial\n",
    "maxeval = 300 \n",
    "penalty = 1e6 \n",
    "nsamples = nthreads\n",
    "trial = 20\n",
    "\n",
    "#Print setting of PySOT \n",
    "print(\"\\nNumber of threads: \" + str(nthreads))\n",
    "print(\"Maximum number of evaluations: \" + str(maxeval))\n",
    "print(\"Search strategy: CandidateDYCORS\")\n",
    "print(\"Experimental design: Latin Hypercube\")\n",
    "print(\"Surrogate: Cubic RBF, domain scaled to unit box\")\n",
    "\n",
    "# Initiate instance of the CostFunction class you created\n",
    "data = KeaneConsPenalty(dim=20) \n",
    "print(data.info)\n",
    "\n",
    "# Create a strategy  and a controller \n",
    "controller = ThreadController() \n",
    "controller.strategy = \\\n",
    "    SyncStrategyNoConstraints(\n",
    "        worker_id=0, data=data,\n",
    "        maxeval=maxeval, nsamples=nsamples,\n",
    "        response_surface=RBFInterpolant(kernel=CubicKernel, maxp=maxeval),\n",
    "        exp_design=LatinHypercube(dim=data.dim, npts=2*(data.dim+1)),\n",
    "        sampling_method=CandidateDYCORS(data=data, numcand=100*data.dim))\n",
    "\n",
    "# Launch the threads with given objective function\n",
    "for _ in range(nthreads):\n",
    "    worker = BasicWorkerThread(controller, data.objfunction)\n",
    "    controller.launch_worker(worker)\n",
    "    \n",
    "# Run the optimization strategy once\n",
    "result = controller.run()\n",
    "fvals = np.array([o.value for o in controller.fevals])\n",
    "best, xbest = result.value, result.params[0]\n",
    "\n",
    "Iter = np.arange(1,maxeval+1)\n",
    "Trial_best_Keane_Penalty = np.column_stack((Iter,np.minimum.accumulate(fvals)))\n",
    "\n",
    "# Run the rest of the trials \n",
    "for i  in range(1,trial):\n",
    "    result = controller.run()\n",
    "    fvals = np.array([o.value for o in controller.fevals])\n",
    "    Trial_best_Keane_Penalty = np.concatenate((Trial_best_Keane_Penalty, \n",
    "                                        np.column_stack((Iter,np.minimum.accumulate(fvals)))), \n",
    "                                        axis=0)\n",
    "    if result.value < best:\n",
    "        best, xbest = result.value, result.params[0]\n",
    "\n",
    "print('Best value: {0}'.format(best))\n",
    "print('Best solution: {0}'.format(\n",
    "        np.array_str(xbest, max_line_width=np.inf,\n",
    "        precision=5, suppress_small=True)))\n",
    "    \n",
    "Trial_best_Keane_Penalty_df = pd.DataFrame(Trial_best_Keane_Penalty, \n",
    "                                           columns = ['Iteration','Cost'])\n",
    "\n",
    "# Average of Best_Cost plot\n",
    "plt.figure(figsize=[10,8])\n",
    "plt.plot(Trial_best_Keane_Penalty_df.groupby('Iteration').mean().Cost, '-.')\n",
    "plt.xlabel('Iteration/Function evaluation')\n",
    "plt.ylabel('Cost')\n",
    "plt.legend(['Best_Cost'])\n",
    "plt.tight_layout()"
   ]
  },
  {
   "cell_type": "markdown",
   "metadata": {},
   "source": [
    "b) Keane's Bump with pySOT Constraint handling"
   ]
  },
  {
   "cell_type": "code",
   "execution_count": 35,
   "metadata": {
    "collapsed": true
   },
   "outputs": [],
   "source": [
    "class KeaneCons:\n",
    "    def __init__(self, dim=10):\n",
    "        self.xlow = np.zeros(dim)\n",
    "        self.xup = 5 * np.ones(dim)\n",
    "        self.dim = dim\n",
    "        self.min = -0.835\n",
    "        self.integer = []\n",
    "        self.continuous = np.arange(0, dim)\n",
    "        self.info = str(dim)+\"-dimensional Keane bump function \\n\" +\\\n",
    "                             \"Global optimum: -0.835 for large n\"\n",
    "\n",
    "    # Return a list with the constraint function at the given point\n",
    "    def eval_ineq_constraints(self, x):\n",
    "        vec = np.zeros((x.shape[0], 2))\n",
    "        vec[:, 0] = 0.75 - np.prod(x) # Constraint 1\n",
    "        vec[:, 1] = np.sum(x) - 7.5 * self.dim # Constraint 2\n",
    "        return vec\n",
    "\n",
    "\n",
    "    # Evaluate the objective function for a single data point\n",
    "    def objfunction(self, x):\n",
    "        \"\"\"Evaluate the Keane function  at x\n",
    "\n",
    "        :param x: Data point\n",
    "        :return: Value at x\n",
    "        \"\"\"\n",
    "        n = len(x)\n",
    "        return -abs((sum(np.cos(x)**4)-2 * np.prod(np.cos(x)**2)) /\n",
    "                    max([1E-10, np.sqrt(np.dot(1+np.arange(n), x**2))]))"
   ]
  },
  {
   "cell_type": "code",
   "execution_count": 79,
   "metadata": {},
   "outputs": [
    {
     "name": "stdout",
     "output_type": "stream",
     "text": [
      "\n",
      "Number of threads: 1\n",
      "Maximum number of evaluations: 300\n",
      "Search strategy: CandidateDYCORS\n",
      "Experimental design: Latin Hypercube\n",
      "Surrogate: Cubic RBF, domain scaled to unit box\n",
      "20-dimensional Keane bump function \n",
      "Global optimum: -0.835 for large n\n",
      "Best value: -0.4950026342870997\n",
      "Best solution: [ 0.09138  0.21215  0.09797  2.42405  3.11515  3.06621  0.35144  3.10893  2.94876  3.03011  2.93904  0.15296  2.03257  2.95543  0.21824  3.02353  0.39705  2.99307  0.40652  2.04109]\n"
     ]
    },
    {
     "data": {
      "image/png": "[encoded data removed]",
      "text/plain": [
       "<matplotlib.figure.Figure at 0x1e4c72b9710>"
      ]
     },
     "metadata": {},
     "output_type": "display_data"
    }
   ],
   "source": [
    "nthreads = 1 # serial\n",
    "maxeval = 300 \n",
    "penalty = 1e6 \n",
    "nsamples = nthreads\n",
    "trial = 20\n",
    "\n",
    "#Print setting of PySOT \n",
    "print(\"\\nNumber of threads: \" + str(nthreads))\n",
    "print(\"Maximum number of evaluations: \" + str(maxeval))\n",
    "print(\"Search strategy: CandidateDYCORS\")\n",
    "print(\"Experimental design: Latin Hypercube\")\n",
    "print(\"Surrogate: Cubic RBF, domain scaled to unit box\")\n",
    "\n",
    "# Initiate instance of the CostFunction class you created\n",
    "data = KeaneCons(dim=20) \n",
    "print(data.info)\n",
    "\n",
    "# Create a strategy  and a controller \n",
    "controller = ThreadController() \n",
    "controller.strategy = \\\n",
    "    SyncStrategyPenalty(\n",
    "        worker_id=0, data=data,\n",
    "        maxeval=maxeval, nsamples=nsamples,\n",
    "        response_surface=RBFInterpolant(kernel=CubicKernel, maxp=maxeval),\n",
    "        exp_design=LatinHypercube(dim=data.dim, npts=2*(data.dim+1)),\n",
    "        sampling_method=CandidateDYCORS(data=data, numcand=100*data.dim),\n",
    "        penalty=penalty)\n",
    "\n",
    "# Launch the threads with given objective function\n",
    "for _ in range(nthreads):\n",
    "    worker = BasicWorkerThread(controller, data.objfunction)\n",
    "    controller.launch_worker(worker)\n",
    "    \n",
    "# Run the optimization strategy once\n",
    "def feasible_merit(record):\n",
    "    xx = np.zeros((1, record.params[0].shape[0]))\n",
    "    xx[0, :] = record.params[0]\n",
    "    return record.value + controller.strategy.penalty_fun(xx)[0, 0]\n",
    "\n",
    "result = controller.run(merit=feasible_merit)\n",
    "best, xbest = result.value, result.params[0]\n",
    "fvals = np.array([o.value for o in controller.fevals])\n",
    "\n",
    "Iter = np.arange(1,maxeval+1)\n",
    "Trial_best_Keane_ConstrHandling = np.column_stack((Iter,np.minimum.accumulate(fvals)))\n",
    "\n",
    "# Run the rest of the trials \n",
    "for i  in range(1,trial):\n",
    "    result = controller.run(merit=feasible_merit)\n",
    "    fvals = np.array([o.value for o in controller.fevals])\n",
    "    Trial_best_Keane_ConstrHandling = np.concatenate((Trial_best_Keane_ConstrHandling, \n",
    "                                        np.column_stack((Iter,np.minimum.accumulate(fvals)))), \n",
    "                                        axis=0)\n",
    "    if result.value < best:\n",
    "        best, xbest = result.value, result.params[0]\n",
    "\n",
    "print('Best value: {0}'.format(best))\n",
    "print('Best solution: {0}'.format(\n",
    "        np.array_str(xbest, max_line_width=np.inf,\n",
    "        precision=5, suppress_small=True)))\n",
    "    \n",
    "Trial_best_Keane_ConstrHandling_df = pd.DataFrame(Trial_best_Keane_ConstrHandling, \n",
    "                                                  columns = ['Iteration','Cost'])\n",
    "\n",
    "# Average of Best_Cost plot\n",
    "plt.figure(figsize=[10,8])\n",
    "plt.plot(Trial_best_Keane_Penalty_df.groupby('Iteration').mean().Cost, '-.')\n",
    "plt.plot(Trial_best_Keane_ConstrHandling_df.groupby('Iteration').mean().Cost, '->')\n",
    "plt.xlabel('Iteration/Function evaluation')\n",
    "plt.ylabel('Cost')\n",
    "plt.legend(['Best_Cost_Keane_myPenalty', 'Best_Cost_Keane_PySOTConstrHandling'])\n",
    "plt.tight_layout()"
   ]
  },
  {
   "cell_type": "markdown",
   "metadata": {},
   "source": [
    "### c.\tFrom just looking at the plot developed in 1(b), which penalty handling method works better for Keane’s Bump Function? \n",
    "\n",
    "The penalty handling method which is built-in PySOT works better for this experiment with Keane's Bump function"
   ]
  },
  {
   "cell_type": "markdown",
   "metadata": {},
   "source": [
    "## 2.\t(Computer Usage) Setting up SO-MI in PySOT (15 points)"
   ]
  },
  {
   "cell_type": "markdown",
   "metadata": {},
   "source": [
    "a. simpleMI objective and constraint violation function"
   ]
  },
  {
   "cell_type": "code",
   "execution_count": 9,
   "metadata": {
    "collapsed": true
   },
   "outputs": [],
   "source": [
    "class LinearMI:\n",
    "    def __init__(self):\n",
    "        self.xlow = np.zeros(5)\n",
    "        self.xup = np.array([10, 10, 10, 1, 1])\n",
    "        self.dim = 5\n",
    "        self.min = -1\n",
    "        self.integer = np.arange(0, 3)\n",
    "        self.continuous = np.arange(3, 5)\n",
    "        self.info = str(self.dim)+\"-dimensional Linear MI function \\n\"\n",
    "\n",
    "    def eval_ineq_constraints(self, x):\n",
    "        vec = np.zeros((x.shape[0], 3))\n",
    "        vec[:, 0] = x[:, 0] + x[:, 2] - 1.6\n",
    "        vec[:, 1] = 1.333 * x[:, 1] + x[:, 3] - 3\n",
    "        vec[:, 2] = - x[:, 2] - x[:, 3] + x[:, 4]\n",
    "        return vec\n",
    "\n",
    "    def objfunction(self, x):\n",
    "        if len(x) != self.dim:\n",
    "            raise ValueError('Dimension mismatch')\n",
    "        return - x[0] + 3 * x[1] + 1.5 * x[2] + 2 * x[3] - 0.5 * x[4]"
   ]
  },
  {
   "cell_type": "markdown",
   "metadata": {},
   "source": [
    "b. Modified SO-MI Algorithm implementation"
   ]
  },
  {
   "cell_type": "code",
   "execution_count": 88,
   "metadata": {},
   "outputs": [
    {
     "name": "stdout",
     "output_type": "stream",
     "text": [
      "\n",
      "Number of threads: 4\n",
      "Maximum number of evaluations: 100\n",
      "Search strategy: CandidateDYCORS_INT,CandidateDYCORS_CONT,CandidateDYCORS,CandidateUniform\n",
      "Experimental design: Symmetric Latin Hypercube\n",
      "Surrogate: Cubic RBF with linear tail\n",
      "5-dimensional Linear MI \n",
      "Global optimum: f(1,0,0,0,0) = -1\n",
      "3 integer variables\n",
      "Best value: -0.9689789386192589\n",
      "Best solution: [ 1.       0.       0.       0.02048  0.01989]\n"
     ]
    },
    {
     "data": {
      "image/png": "[encoded data removed]",
      "text/plain": [
       "<matplotlib.figure.Figure at 0x1e4c737af28>"
      ]
     },
     "metadata": {},
     "output_type": "display_data"
    }
   ],
   "source": [
    "from pySOT import LinearMI, MultiSampling, CandidateDYCORS, \\\n",
    "                  CandidateDYCORS_CONT, CandidateDYCORS_INT, \\\n",
    "                  CandidateUniform\n",
    "\n",
    "nthreads = 4 # 4 points selected and evaluated simultaneously\n",
    "maxeval = 100 \n",
    "penalty = 1e6 \n",
    "nsamples = nthreads\n",
    "trial = 20\n",
    "\n",
    "#Print setting of PySOT \n",
    "print(\"\\nNumber of threads: \" + str(nthreads))\n",
    "print(\"Maximum number of evaluations: \" + str(maxeval))\n",
    "print(\"Search strategy: CandidateDYCORS_INT,CandidateDYCORS_CONT,\\\n",
    "CandidateDYCORS,CandidateUniform\")\n",
    "print(\"Experimental design: Symmetric Latin Hypercube\")\n",
    "print(\"Surrogate: Cubic RBF with linear tail\")\n",
    "\n",
    "# Initiate instance of the CostFunction class you created\n",
    "data = LinearMI() \n",
    "print(data.info)\n",
    "\n",
    "sampling_methods = [CandidateDYCORS(data=data, numcand=100*data.dim), \\\n",
    "                    CandidateDYCORS_CONT(data=data, numcand=100*data.dim), \\\n",
    "                    CandidateDYCORS_INT(data=data, numcand=100*data.dim), \\\n",
    "                    CandidateUniform(data=data, numcand=100*data.dim)]\n",
    "cycle = [0, 1, 2, 3]\n",
    "sampling_methods = MultiSampling(sampling_methods, cycle)\n",
    "\n",
    "# Create a strategy  and a controller \n",
    "controller = ThreadController() \n",
    "controller.strategy = \\\n",
    "    SyncStrategyPenalty(\n",
    "        worker_id=0, data=data,\n",
    "        maxeval=maxeval, nsamples=nsamples,\n",
    "        response_surface=RBFInterpolant(kernel=CubicKernel,tail=LinearTail,\n",
    "                                        maxp=maxeval),\n",
    "        exp_design=SymmetricLatinHypercube(dim=data.dim, npts=2*(data.dim+1)),\n",
    "        sampling_method=sampling_methods,\n",
    "        penalty=penalty)\n",
    "\n",
    "# Launch the threads with given objective function\n",
    "for _ in range(nthreads):\n",
    "    worker = BasicWorkerThread(controller, data.objfunction)\n",
    "    controller.launch_worker(worker)\n",
    "    \n",
    "# Run the optimization strategy once\n",
    "def feasible_merit(record):\n",
    "    xx = np.zeros((1, record.params[0].shape[0]))\n",
    "    xx[0, :] = record.params[0]\n",
    "    return record.value + controller.strategy.penalty_fun(xx)[0, 0]\n",
    "\n",
    "result = controller.run(merit=feasible_merit)\n",
    "fvals = np.array([o.value for o in controller.fevals])\n",
    "best, xbest = result.value, result.params[0]\n",
    "\n",
    "Iter = np.arange(1,maxeval+1)\n",
    "Trial_best_SOMI = np.column_stack((Iter,np.minimum.accumulate(fvals)))\n",
    "\n",
    "# Run the rest of the trials \n",
    "for i  in range(1,trial):\n",
    "    result = controller.run(merit=feasible_merit)\n",
    "    fvals = np.array([o.value for o in controller.fevals])\n",
    "    Trial_best_SOMI = np.concatenate((Trial_best_SOMI, \n",
    "                                        np.column_stack((Iter,np.minimum.accumulate(fvals)))), \n",
    "                                        axis=0)\n",
    "    if result.value < best:\n",
    "        best, xbest = result.value, result.params[0]\n",
    "    \n",
    "Trial_best_SOMI_df = pd.DataFrame(Trial_best_SOMI, columns = ['Iteration','Cost'])\n",
    "\n",
    "print('Best value: {0}'.format(best))\n",
    "print('Best solution: {0}'.format(\n",
    "        np.array_str(xbest, max_line_width=np.inf,\n",
    "        precision=5, suppress_small=True)))\n",
    "\n",
    "# Average of Best_Cost plot\n",
    "plt.figure(figsize=[10,8])\n",
    "plt.plot(Trial_best_SOMI_df.groupby('Iteration').mean().Cost, '--')\n",
    "plt.xlabel('Iteration/Function evaluation')\n",
    "plt.ylabel('Cost')\n",
    "plt.legend(['Best_Cost_SOMI'])\n",
    "plt.tight_layout()"
   ]
  },
  {
   "cell_type": "code",
   "execution_count": 94,
   "metadata": {},
   "outputs": [
    {
     "data": {
      "text/plain": [
       "(100, 2)"
      ]
     },
     "execution_count": 94,
     "metadata": {},
     "output_type": "execute_result"
    }
   ],
   "source": [
    "#testing out...\n",
    "result = controller.run(merit=feasible_merit)\n",
    "fvals = np.array([(o.value,o.feasible) for o in controller.fevals])\n",
    "feasiblefvals = np.prod(fvals,axis=1)"
   ]
  },
  {
   "cell_type": "markdown",
   "metadata": {
    "collapsed": true
   },
   "source": [
    "c. Global MSRBF Implementation"
   ]
  },
  {
   "cell_type": "code",
   "execution_count": 43,
   "metadata": {},
   "outputs": [
    {
     "name": "stdout",
     "output_type": "stream",
     "text": [
      "\n",
      "Method: G-MSRBF\n",
      "Number of threads: 4\n",
      "Maximum number of evaluations: 100\n",
      "Sampling method: CandidateUniform\n",
      "Experimental design: Symmetric Latin Hypercube\n",
      "Surrogate: Cubic RBF with linear tail\n",
      "5-dimensional Linear MI \n",
      "Global optimum: f(1,0,0,0,0) = -1\n",
      "3 integer variables\n",
      "Best value: 0.2531277348930737\n",
      "Best solution: [ 1.       0.       0.       0.77457  0.59202]\n"
     ]
    },
    {
     "data": {
      "image/png": "[encoded data removed]",
      "text/plain": [
       "<matplotlib.figure.Figure at 0x1e4c7351be0>"
      ]
     },
     "metadata": {},
     "output_type": "display_data"
    }
   ],
   "source": [
    "nthreads = 4 # 4 points selected and evaluated simultaneously\n",
    "maxeval = 100 \n",
    "penalty = 1e6 \n",
    "nsamples = nthreads\n",
    "trial = 20\n",
    "\n",
    "#Print setting of PySOT \n",
    "print(\"\\nMethod: G-MSRBF\")\n",
    "print(\"Number of threads: \" + str(nthreads))\n",
    "print(\"Maximum number of evaluations: \" + str(maxeval))\n",
    "print(\"Sampling method: CandidateUniform\")\n",
    "print(\"Experimental design: Symmetric Latin Hypercube\")\n",
    "print(\"Surrogate: Cubic RBF with linear tail\")\n",
    "\n",
    "# Initiate instance of the CostFunction class you created\n",
    "data = LinearMI() \n",
    "print(data.info)\n",
    "# Cycling through weights when sampling\n",
    "sampling_methods = [CandidateUniform(data=data, numcand=100*data.dim, weights=[0.2, 0.8]), \\\n",
    "                    CandidateUniform(data=data, numcand=100*data.dim, weights=[0.4, 0.6]), \\\n",
    "                    CandidateUniform(data=data, numcand=100*data.dim, weights=[0.6, 0.4]), \\\n",
    "                    CandidateUniform(data=data, numcand=100*data.dim, weights=[0.9, 0.1]), \\\n",
    "                    CandidateUniform(data=data, numcand=100*data.dim, weights=[1, 0])]\n",
    "cycle = [0, 1, 2, 3, 4]\n",
    "sampling_methods = MultiSampling(sampling_methods, cycle)\n",
    "\n",
    "controller = ThreadController()\n",
    "controller.strategy = \\\n",
    "    SyncStrategyPenalty(\n",
    "        worker_id=0, data=data,\n",
    "        maxeval=maxeval, nsamples=nsamples,\n",
    "        exp_design=SymmetricLatinHypercube(dim=data.dim, npts=2*(data.dim+1)),\n",
    "        response_surface=RBFInterpolant(kernel=CubicKernel, tail=LinearTail,\n",
    "                                        maxp=maxeval),\n",
    "        sampling_method=sampling_methods,\n",
    "        penalty=penalty)  \n",
    "\n",
    "# Launch the threads and give them access to the objective function\n",
    "for _ in range(nthreads):\n",
    "    worker = BasicWorkerThread(controller, data.objfunction)\n",
    "    controller.launch_worker(worker)\n",
    "\n",
    "# Run the optimization strategy\n",
    "def feasible_merit(record):\n",
    "    xx = np.zeros((1, record.params[0].shape[0]))\n",
    "    xx[0, :] = record.params[0]\n",
    "    return record.value + controller.strategy.penalty_fun(xx)[0, 0]\n",
    "    \n",
    "result = controller.run(merit=feasible_merit)\n",
    "fvals = np.array([o.value for o in controller.fevals])\n",
    "best, xbest = result.value, result.params[0]\n",
    "\n",
    "Iter = np.arange(1,maxeval+1)\n",
    "Trial_best_GMSRBF = np.column_stack((Iter,np.minimum.accumulate(fvals)))\n",
    "\n",
    "# Run the rest of the trials \n",
    "for i  in range(1,trial):\n",
    "    result = controller.run(merit=feasible_merit)\n",
    "    fvals = np.array([o.value for o in controller.fevals])\n",
    "    Trial_best_GMSRBF = np.concatenate((Trial_best_GMSRBF, \n",
    "                                        np.column_stack((Iter,np.minimum.accumulate(fvals)))), \n",
    "                                       axis=0)\n",
    "    if result.value < best:\n",
    "        best, xbest = result.value, result.params[0]\n",
    "\n",
    "print('Best value: {0}'.format(best))\n",
    "print('Best solution: {0}'.format(\n",
    "        np.array_str(xbest, max_line_width=np.inf,\n",
    "        precision=5, suppress_small=True)))\n",
    "        \n",
    "Trial_best_GMSRBF_df = pd.DataFrame(Trial_best_GMSRBF, columns = ['Iteration','Cost'])\n",
    "\n",
    "# Average of Best_Cost plot\n",
    "plt.figure(figsize=[10,8])\n",
    "plt.plot(Trial_best_SOMI_df.groupby('Iteration').mean().Cost, '--')\n",
    "plt.plot(Trial_best_GMSRBF_df.groupby('Iteration').mean().Cost, '-o')\n",
    "plt.xlabel('Iteration/Function evaluation')\n",
    "plt.ylabel('Cost')\n",
    "plt.legend(['Best_Cost_SOMI', 'Best_Cost_GMSRBF'])\n",
    "plt.tight_layout()"
   ]
  },
  {
   "cell_type": "markdown",
   "metadata": {},
   "source": [
    "It appears that ..."
   ]
  },
  {
   "cell_type": "markdown",
   "metadata": {},
   "source": [
    "## 3.\tShort Answer Questions (no computer necessary)"
   ]
  },
  {
   "cell_type": "markdown",
   "metadata": {},
   "source": [
    "Statements: <br>\n",
    "_A.\tUses non-dominated sorting to evaluate fitness of solutions._ <br>\n",
    "True for  NSGA-II only\n",
    "\n",
    "_B.\tUses the Hypervolume metric to select new points for expensive evaluation._ <br>\n",
    "True for GOMORS only\n",
    "\n",
    "_C.\tCan select more than one point for expensive evaluation in each algorithm iteration._<br> \n",
    "True for both GOMORS and NSGA-II\n",
    "\n",
    "_D.\tUses Kriging surrogate (Gaussian Process Model) to help pick a point for expensive evaluation._<br> \n",
    "Neither of the two algorithm\n",
    "\n",
    "_E.\tCan be applied to problems with more than two objectives._ <br>\n",
    "True for both GOMORS and NSGA-II\n",
    "\n",
    "**What characteristics of your problem and the number of available evaluations would help you select among the 2 algorithms mentioned above? How many surrogate surfaces are fitted in GOMORS?**\n",
    "\n",
    "If there are only a limited number of available evaluations, or calculation of objective function is expensive, then GOMORS should be chosen.  \n",
    "\n",
    "In GOMORS the surrogate surgaface fitted is equal to the number of objectives in the problem."
   ]
  },
  {
   "cell_type": "markdown",
   "metadata": {},
   "source": [
    "### 4.\tExplain what “restart” is for some surrogate global optimization methods.Explain  when and why LMSRBF will restart and answer the same question for DYCORS. Is there a difference between the two methods.  Explain the advantages and disadvantages of restarting."
   ]
  },
  {
   "cell_type": "markdown",
   "metadata": {
    "collapsed": true
   },
   "source": [
    "\"Restart\" refers to re-initializing using a different experiment design.\n",
    "\n",
    "For LMSRBF, it will restart when it appears to have converged to a local optimum. The restart happens if the number of consecutive 'failed' iteration exceeds the pre-determined tolerance parameter. <br>\n",
    "This restart is carried out so that the search will be able to get out of a local optimum and a global optimization can be achieved.\n",
    "\n",
    "# For DYCORS, ...\n",
    "\n",
    "The advantage is that starting with a clean slate allows for the algorithm to search in a new trajectory, and helps it to find a new local optimum point.\n",
    "\n",
    "The disadvantage is the significant number of evaluations needed to get a new experimental design, such as 2(d+1) points in the Symmetric Latin Hypercube Design, for each restart."
   ]
  },
  {
   "cell_type": "markdown",
   "metadata": {},
   "source": [
    "### 5.\tAssume you have a 15 dimensional decision vector $X_i^A$, where $X_i^A$, A = LMSRBF or DYCORS to indicate the algorithm. So $X_i^L$ refers to the value of the decision vector in the I-th iteration of the LMSRBF algorithm. Let $n_o$ be the number of evaluations done for the Latin Hypercube evaluation. So what can you say about the expected Euclidean distance from $X_i^L$ to $X_{i+1}^L$ versus the expected Euclidean distance $X_i^D$ to  $X_{i+1}^D$?"
   ]
  },
  {
   "cell_type": "markdown",
   "metadata": {},
   "source": [
    "The expected Euclidean distance from $X_i^L$ to $X_{i+1}^L$ is more likely to be larger than that of the expected Euclidean distance $X_i^D$ to  $X_{i+1}^D$. This is because for the LMSRBF, all the coordinates of the $X_i^L$ decision vector is perturbed in each iteration, whereas in the case of DYCORS the number of coordinates to be perturbed decreases as the iterations increases, and should therefore have smaller the Euclidean distance between $X_i^D$ and the $X_{i+1}^D$."
   ]
  },
  {
   "cell_type": "code",
   "execution_count": null,
   "metadata": {
    "collapsed": true
   },
   "outputs": [],
   "source": []
  }
 ],
 "metadata": {
  "kernelspec": {
   "display_name": "Python 3",
   "language": "python",
   "name": "python3"
  },
  "language_info": {
   "codemirror_mode": {
    "name": "ipython",
    "version": 3
   },
   "file_extension": ".py",
   "mimetype": "text/x-python",
   "name": "python",
   "nbconvert_exporter": "python",
   "pygments_lexer": "ipython3",
   "version": "3.6.3"
  }
 },
 "nbformat": 4,
 "nbformat_minor": 2
}
