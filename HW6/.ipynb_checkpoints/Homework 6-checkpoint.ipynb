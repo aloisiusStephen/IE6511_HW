{
 "cells": [
  {
   "cell_type": "markdown",
   "metadata": {},
   "source": [
    "# IE6511 Homework 6\n",
    "Done by: Aloisius Stephen and Yang Xiaozhou"
   ]
  },
  {
   "cell_type": "code",
   "execution_count": null,
   "metadata": {
    "collapsed": true
   },
   "outputs": [],
   "source": [
    "font = {'family' : 'sans-serif',\n",
    "        'weight' : 'normal',\n",
    "        'size'   : 12}"
   ]
  },
  {
   "cell_type": "markdown",
   "metadata": {},
   "source": [
    "## 1.  \n",
    "The titles of the columns are: <br>\n",
    "A.\tDoes at least one perturbation of the current best solution per iteration <br>\n",
    "B.\tDoes more than one perturbation from the current best solution per iteration <br>\n",
    "C.\tUses a distance metric to help pick the point for the expensive evaluation <br>\n",
    "D.\tUses the surrogate surface to help pick the point for the expensive evaluation<br>\n",
    "\n",
    "<table>\n",
    "  <tr>\n",
    "    <th>Algorithm Name</th>\n",
    "    <th>A</th>\n",
    "    <th>B</th>\n",
    "    <th>C</th>\n",
    "    <th>D</th>\n",
    "  </tr>\n",
    "  <tr>\n",
    "    <td>DDS</td>\n",
    "    <td>YES</td> <!-- A -->\n",
    "    <td>YES</td> <!-- B -->\n",
    "    <td>NO</td> <!-- C -->\n",
    "    <td>NO</td> <!-- D -->\n",
    "  </tr>\n",
    "  <tr>\n",
    "    <td>DYCORS-LMSRBF</td>\n",
    "    <td>YES</td>\n",
    "    <td>YES</td>\n",
    "    <td>YES</td>\n",
    "    <td>YES</td>\n",
    "  </tr>\n",
    "  <tr>\n",
    "    <td>DYCORS-DDSRBF</td>\n",
    "    <td>YES</td>\n",
    "    <td>YES</td>\n",
    "    <td>YES</td>\n",
    "    <td>YES</td>\n",
    "  </tr>\n",
    "  <tr>\n",
    "    <td>LMSRBF</td>\n",
    "    <td>YES</td>\n",
    "    <td>YES</td>\n",
    "    <td>YES</td>\n",
    "    <td>YES</td>\n",
    "  </tr>\n",
    "    <tr>\n",
    "    <td>GMSRBF</td>\n",
    "    <td>NO (at least one candidate points generated BUT independent of current best solution)</td>\n",
    "    <td>NO (more than one candidate points generated BUT does not come from the current best solution)</td>\n",
    "    <td>YES</td>\n",
    "    <td>YES</td>\n",
    "  </tr>\n",
    "</table>\n",
    "<br>"
   ]
  },
  {
   "cell_type": "markdown",
   "metadata": {},
   "source": [
    "Qn: In Figure 3 of the DYCORS paper, DYCORS-LMSRBF performs the best on all four problems and DDS performs the worst.   Explain what you think the reasons are for that performance  in terms of the specific differences between those algorithms.  Is the performance consistent in other figures?  \n",
    "<br>\n",
    "\n",
    "Qn: characteristics of your problem and the number of available evaluations would help you select among these 4 algorithms in the table above?\n",
    "<br>"
   ]
  },
  {
   "cell_type": "markdown",
   "metadata": {},
   "source": [
    "## 2. Making candidate points concrete\n"
   ]
  },
  {
   "cell_type": "markdown",
   "metadata": {
    "collapsed": true
   },
   "source": [
    "Assume you are solving two dimensional problem so Domain is a rectangle length 10 on a side.  and you have previously evaluated the  expensive function  at the following points:   (1,5),(0,4), (6, 1), (3,2).Assume the value of the surrogate is s(x)= (x1  +  2x2 -5)2. (So to simplify in homework, we use a quadratic polynomial rather than an RBF function for surrogate in  this problem).  Assume the current candidate points are  (2,8)). (2,6), (4,0 )  \n",
    "\n",
    "Which is the point you would select for the next expensive function evaluation in DYCORS-LMSRBF given the weight and the surrogate  in that iteration is  .4?\n",
    "\n",
    "It is OK if you want to use just plot points on a graph to determine the nearest previously evaluated point for each of the candidate points. "
   ]
  },
  {
   "cell_type": "code",
   "execution_count": null,
   "metadata": {
    "collapsed": true
   },
   "outputs": [],
   "source": []
  }
 ],
 "metadata": {
  "kernelspec": {
   "display_name": "Python 3",
   "language": "python",
   "name": "python3"
  },
  "language_info": {
   "codemirror_mode": {
    "name": "ipython",
    "version": 3
   },
   "file_extension": ".py",
   "mimetype": "text/x-python",
   "name": "python",
   "nbconvert_exporter": "python",
   "pygments_lexer": "ipython3",
   "version": "3.6.0"
  }
 },
 "nbformat": 4,
 "nbformat_minor": 2
}
