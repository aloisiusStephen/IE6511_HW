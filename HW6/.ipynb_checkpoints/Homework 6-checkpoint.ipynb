{
 "cells": [
  {
   "cell_type": "markdown",
   "metadata": {},
   "source": [
    "# IE6511 Homework 6\n",
    "Done by: Aloisius Stephen and Yang Xiaozhou"
   ]
  },
  {
   "cell_type": "code",
   "execution_count": 1,
   "metadata": {
    "collapsed": true
   },
   "outputs": [],
   "source": [
    "import numpy as np\n",
    "import pandas as pd\n",
    "import matplotlib\n",
    "import matplotlib.pyplot as plt\n",
    "%matplotlib inline\n",
    "\n",
    "np.set_printoptions(precision=3)\n",
    "\n",
    "font = {'family' : 'sans-serif',\n",
    "        'weight' : 'normal',\n",
    "        'size'   : 12}\n",
    "\n",
    "matplotlib.rc('font', **font)"
   ]
  },
  {
   "cell_type": "markdown",
   "metadata": {},
   "source": [
    "## 1.  \n",
    "The titles of the columns are: <br>\n",
    "A.\tDoes at least one perturbation of the current best solution per iteration <br>\n",
    "B.\tDoes more than one perturbation from the current best solution per iteration <br>\n",
    "C.\tUses a distance metric to help pick the point for the expensive evaluation <br>\n",
    "D.\tUses the surrogate surface to help pick the point for the expensive evaluation<br>\n",
    "\n",
    "<table>\n",
    "  <tr>\n",
    "    <th>Algorithm Name</th>\n",
    "    <th>A</th>\n",
    "    <th>B</th>\n",
    "    <th>C</th>\n",
    "    <th>D</th>\n",
    "  </tr>\n",
    "  <tr>\n",
    "    <td>DDS</td>\n",
    "    <td>YES</td> <!-- A -->\n",
    "    <td>YES</td> <!-- B -->\n",
    "    <td>NO</td> <!-- C -->\n",
    "    <td>NO</td> <!-- D -->\n",
    "  </tr>\n",
    "  <tr>\n",
    "    <td>DYCORS-LMSRBF</td>\n",
    "    <td>YES</td>\n",
    "    <td>YES</td>\n",
    "    <td>YES</td>\n",
    "    <td>YES</td>\n",
    "  </tr>\n",
    "  <tr>\n",
    "    <td>DYCORS-DDSRBF</td>\n",
    "    <td>YES</td>\n",
    "    <td>YES</td>\n",
    "    <td>YES</td>\n",
    "    <td>YES</td>\n",
    "  </tr>\n",
    "  <tr>\n",
    "    <td>LMSRBF</td>\n",
    "    <td>YES</td>\n",
    "    <td>YES</td>\n",
    "    <td>YES</td>\n",
    "    <td>YES</td>\n",
    "  </tr>\n",
    "    <tr>\n",
    "    <td>GMSRBF</td>\n",
    "    <td>NO (at least one candidate points generated <br> BUT independent of current best solution)</td>\n",
    "    <td>NO (more than one candidate points generated <br> BUT does not come from the current best solution)</td>\n",
    "    <td>YES</td>\n",
    "    <td>YES</td>\n",
    "  </tr>\n",
    "</table>\n",
    "<br>"
   ]
  },
  {
   "cell_type": "markdown",
   "metadata": {},
   "source": [
    "#### Qn: In Figure 3 of the DYCORS paper, DYCORS-LMSRBF performs the best on all four problems and DDS performs the worst.   Explain what you think the reasons are for that performance  in terms of the specific differences between those algorithms.  Is the performance consistent in other figures?  \n",
    "\n",
    "In general the DDS performs worst because DDS requires a large number of evaluations (iterations) while there is currently limited function evaluation, and the DYCORS algorithm has greater advantage in choosing its point for its next evaluation because it uses the response surface model to estimate the value of the candidate points.\n",
    "\n",
    "Also, another reason why the performance of DYCORS-LMSRBF is usually better than that of DDS (and the DYCORS-DDSRBF) is most likely because of the adjustment in step size, which is only carried out in DYCORS-LMSRBF. Being able to reduce the perturbation when a certain number of failures in finding better solution occurs means that under DYCORS-LMSRBF, the search is able to look for better solution through finer tuning of the variables, while in DDS it may perturb the variable by too large a value.\n",
    "\n",
    "#### Qn: What characteristics of your problem and the number of available evaluations would help you select among these 4 algorithms in the table above?\n",
    "\n",
    "Deciding between DDS and the surrogate methods (DYCORS,LMSRBF,GMSRBF) should be based on the cost of objective function evaluation( which relates to the limitation on the number of available evaluations). If the cost is not too expensive then DDS maybe the better choice. While for problems with expensive functions, choosing between the surrogate methods should be based on other characteristic of the problem.\n",
    "\n",
    "Either the DYCORS or LMSRBF should be selected if the problem is known or suspected to having localized optimal solution, and for problems with many local optima, where exploration is deemed as beneficial, then the GMSRBF should be considered instead.\n",
    "\n",
    "And even for expensive functions, if the number of evaluation is very close to the dimensions of the problem then DDS should be selected since the surrogate methods would require evaluations equivalent to at least the number of dimensions to initialise its response surface model, such as using the latin hypercube design which requires at least d+1 function evaluations."
   ]
  },
  {
   "cell_type": "markdown",
   "metadata": {},
   "source": [
    "## 2. Making candidate points concrete\n"
   ]
  },
  {
   "cell_type": "markdown",
   "metadata": {
    "collapsed": true
   },
   "source": [
    "Assume you are solving two dimensional problem so Domain is a rectangle length 10 on a side.  and you have previously evaluated the  expensive function  at the following points:   (1,5),(0,4), (6, 1), (3,2).Assume the value of the surrogate is s(x)= (x1  +  2x2 -5)2. (So to simplify in homework, we use a quadratic polynomial rather than an RBF function for surrogate in  this problem).  Assume the current candidate points are  (2,8)). (2,6), (4,0 )  \n",
    "\n",
    "#### Qn: Which is the point you would select for the next expensive function evaluation in DYCORS-LMSRBF given the weight and the surrogate  in that iteration is  .4? It is OK if you want to use just plot points on a graph to determine the nearest previously evaluated point for each of the candidate points. "
   ]
  },
  {
   "cell_type": "code",
   "execution_count": 2,
   "metadata": {},
   "outputs": [
    {
     "data": {
      "image/png": "[encoded data removed]",
      "text/plain": [
       "<matplotlib.figure.Figure at 0x22517002710>"
      ]
     },
     "metadata": {},
     "output_type": "display_data"
    }
   ],
   "source": [
    "def s(x):\n",
    "    return (x[0] + 2*x[1] - 5) *2\n",
    "\n",
    "evalpt = np.array([[1,5],\n",
    "            [0,4],\n",
    "            [6,1],\n",
    "            [3,2]])\n",
    "evalx1 = evalpt[:,0]\n",
    "evalx2 = evalpt[:,1]\n",
    "  \n",
    "candpt = np.array([[2,8],\n",
    "            [2,6],\n",
    "            [4,0]])\n",
    "candx1 = candpt[:,0]\n",
    "candx2 = candpt[:,1]    \n",
    "\n",
    "plt.figure(figsize=[9,8])\n",
    "plt.plot(evalx1,evalx2,'bo',candx1,candx2,'rx', markersize =15)\n",
    "for i in range(0,3):\n",
    "    plt.annotate(str(s(candpt[i])),(candx1[i],candx2[i]),ha ='left',va ='bottom',size = 20)\n",
    "for i in range(0,4):\n",
    "    plt.annotate(str(s(evalpt[i])),evalpt[i],xytext=(evalx1[i]+0.1, evalx2[i]+0.1),ha ='center',va ='bottom',size = 14)\n",
    "plt.xlabel('x1')\n",
    "plt.ylabel('x2')\n",
    "plt.legend(['Evaluated points','Candidate points'])\n",
    "plt.tight_layout()"
   ]
  },
  {
   "cell_type": "markdown",
   "metadata": {},
   "source": [
    "From the above plot, we can see that candidate point (2,8) has the highest estimated function value and furthest distance from the evaluated points, and so the sum of weighted scores for the candidate point (2,8) is the highest amongst the candidate points and should therefore be selected."
   ]
  },
  {
   "cell_type": "code",
   "execution_count": null,
   "metadata": {
    "collapsed": true
   },
   "outputs": [],
   "source": []
  }
 ],
 "metadata": {
  "kernelspec": {
   "display_name": "Python 3",
   "language": "python",
   "name": "python3"
  },
  "language_info": {
   "codemirror_mode": {
    "name": "ipython",
    "version": 3
   },
   "file_extension": ".py",
   "mimetype": "text/x-python",
   "name": "python",
   "nbconvert_exporter": "python",
   "pygments_lexer": "ipython3",
   "version": "3.6.3"
  }
 },
 "nbformat": 4,
 "nbformat_minor": 2
}
