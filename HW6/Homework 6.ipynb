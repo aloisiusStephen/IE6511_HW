{
 "cells": [
  {
   "cell_type": "markdown",
   "metadata": {},
   "source": [
    "# IE6511 Homework 6\n",
    "Done by: Aloisius Stephen and Yang Xiaozhou"
   ]
  },
  {
   "cell_type": "code",
   "execution_count": null,
   "metadata": {
    "collapsed": true
   },
   "outputs": [],
   "source": [
    "font = {'family' : 'sans-serif',\n",
    "        'weight' : 'normal',\n",
    "        'size'   : 12}"
   ]
  },
  {
   "cell_type": "markdown",
   "metadata": {},
   "source": [
    "## 1.  \n",
    "Qn: Fill with yes/no\n",
    "<table>\n",
    "  <tr>\n",
    "    <th>Algorithm Name</th>\n",
    "    <th>A</th>\n",
    "    <th>B</th>\n",
    "    <th>C</th>\n",
    "    <th>D</th>\n",
    "  </tr>\n",
    "  <tr>\n",
    "    <td>DDS</td>\n",
    "    <td>YES/NO??</td>\n",
    "    <td>YES/NO??</td>\n",
    "    <td>YES/NO??</td>\n",
    "    <td>YES/NO??</td>\n",
    "  </tr>\n",
    "  <tr>\n",
    "    <td>DYCORS-LMSRBF</td>\n",
    "    <td>YES/NO??</td>\n",
    "    <td>YES/NO??</td>\n",
    "    <td>YES/NO??</td>\n",
    "    <td>YES/NO??</td>\n",
    "  </tr>\n",
    "  <tr>\n",
    "    <td>DYCORS-DDSRBF</td>\n",
    "    <td>YES/NO??</td>\n",
    "    <td>YES/NO??</td>\n",
    "    <td>YES/NO??</td>\n",
    "    <td>YES/NO??</td>\n",
    "  </tr>\n",
    "  <tr>\n",
    "    <td>LMSRBF</td>\n",
    "    <td>YES/NO??</td>\n",
    "    <td>YES/NO??</td>\n",
    "    <td>YES/NO??</td>\n",
    "    <td>YES/NO??</td>\n",
    "  </tr>\n",
    "    <tr>\n",
    "    <td>GMSRBF</td>\n",
    "    <td>YES/NO??</td>\n",
    "    <td>YES/NO??</td>\n",
    "    <td>YES/NO??</td>\n",
    "    <td>YES/NO??</td>\n",
    "  </tr>\n",
    "</table>\n",
    "<br>"
   ]
  },
  {
   "cell_type": "markdown",
   "metadata": {},
   "source": [
    "Qn: In Figure 3 of the DYCORS paper, DYCORS-LMSRBF performs the best on all four problems and DDS performs the worst.   Explain what you think the reasons are for that performance  in terms of the specific differences between those algorithms.  Is the performance consistent in other figures?  \n",
    "<br>\n",
    "Qn: characteristics of your problem and the number of available evaluations would help you select among these 4 algorithms in the table above?\n",
    "<br>"
   ]
  },
  {
   "cell_type": "markdown",
   "metadata": {},
   "source": [
    "## 2. Making candidate points concrete\n"
   ]
  },
  {
   "cell_type": "code",
   "execution_count": null,
   "metadata": {
    "collapsed": true
   },
   "outputs": [],
   "source": []
  }
 ],
 "metadata": {
  "kernelspec": {
   "display_name": "Python 3",
   "language": "python",
   "name": "python3"
  },
  "language_info": {
   "codemirror_mode": {
    "name": "ipython",
    "version": 3
   },
   "file_extension": ".py",
   "mimetype": "text/x-python",
   "name": "python",
   "nbconvert_exporter": "python",
   "pygments_lexer": "ipython3",
   "version": "3.6.3"
  }
 },
 "nbformat": 4,
 "nbformat_minor": 2
}
