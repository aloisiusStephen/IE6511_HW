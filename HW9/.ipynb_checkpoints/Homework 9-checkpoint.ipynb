{
 "cells": [
  {
   "cell_type": "markdown",
   "metadata": {},
   "source": [
    "# IE6511 Homework 9\n",
    "Done by: Aloisius Stephen and Yang Xiaozhou"
   ]
  },
  {
   "cell_type": "code",
   "execution_count": 1,
   "metadata": {
    "collapsed": true
   },
   "outputs": [],
   "source": [
    "import numpy as np\n",
    "import pandas as pd\n",
    "import matplotlib\n",
    "import matplotlib.pyplot as plt\n",
    "from pySOT import *\n",
    "from poap.controller import SerialController, ThreadController, BasicWorkerThread\n",
    "%matplotlib inline\n",
    "np.random.seed(6511)\n",
    "np.set_printoptions(precision=3)\n",
    "\n",
    "font = {'family' : 'sans-serif',\n",
    "        'weight' : 'normal',\n",
    "        'size'   : 12}\n",
    "\n",
    "matplotlib.rc('font', **font)"
   ]
  },
  {
   "cell_type": "markdown",
   "metadata": {},
   "source": [
    "## 1. Surrogate Optimization with Pareto Selection (SOP) – Center Selection (15 points)"
   ]
  },
  {
   "cell_type": "markdown",
   "metadata": {},
   "source": [
    "a) Yes there are 4 non-dominated fronts\n",
    "\n",
    "1st Front: {10, 6, 5} <br>\n",
    "2nd Front: {2, 1, 4, 12, 3} <br>\n",
    "3rd Front: {7, 9, 8} <br> \n",
    "4th Front: {11}<br>\n"
   ]
  },
  {
   "cell_type": "markdown",
   "metadata": {},
   "source": [
    "b) Center points: {10, 5, 2}"
   ]
  },
  {
   "cell_type": "markdown",
   "metadata": {},
   "source": [
    "c) Center points: {10, 6, 12}"
   ]
  },
  {
   "cell_type": "markdown",
   "metadata": {},
   "source": [
    "## 2.\tNo Free Lunch Theorem (10 points) "
   ]
  },
  {
   "cell_type": "markdown",
   "metadata": {},
   "source": [
    "a) There are $10^{32}$ possible $J_K(x)$, i.e. $|Z| = 10^{32}$"
   ]
  },
  {
   "cell_type": "markdown",
   "metadata": {},
   "source": [
    "b) There are $5^{32}=$ possible $J_K(x)$ with objective value less than 6 forall possible binary string of length 5, i.e. $|G|=5^{32}$\n",
    "\n",
    "One example of just a function would be where $J_K(x) = 5, \\forall x\\in dom(x)$\n",
    "\n",
    "The ratio of $|Z|/|G| = 10^{32}/5^{32} = 2^{32} = 10^{32 \\log 2} \\approx 10^{9.6}$"
   ]
  },
  {
   "cell_type": "markdown",
   "metadata": {},
   "source": [
    "c)It is given that:\n",
    "\\begin{align*}\n",
    "\\sum_{J \\in Z_1} P(M | J_k,1000, GA) = 0.5, \\quad \\sum_{J \\in Z_1} P(M | J_k,1000, ES) = 0.4\n",
    "\\end{align*}\n",
    "\n",
    "Therefore to obtain the difference:\n",
    "\\begin{align*}\n",
    "&\\sum_{J \\in Z_2} P(M | J_k,1000, GA)- \\sum_{J \\in Z_2} P(M | J_k,1000, ES)\\\\\n",
    "= &\\sum_{J \\in Z_2} P(M | J_k,1000, GA) + \\sum_{J \\in Z_1} P(M | J_k,1000, GA)- \\sum_{J \\in Z_1} P(M | J_k,1000, GA)\\\\ &-\\left( \\sum_{J \\in Z_2} P(M | J_k,1000, ES) + \\sum_{J \\in Z_1} P(M | J_k,1000, ES) - \\sum_{J \\in Z_1} P(M | J_k,1000, ES) \\right)\\\\\n",
    "= & \\sum_{J \\in Z} P(M | J_k,1000, GA) - \\sum_{J \\in Z_1} P(M | J_k,1000, GA) -\\left( \\sum_{J \\in Z} P(M | J_k,1000, ES)- \\sum_{J \\in Z_1} P(M | J_k,1000, ES) \\right) \\\\\n",
    "=&  \\sum_{J \\in Z} P(M | J_k,1000, GA) - \\sum_{J \\in Z} P(M | J_k,1000, ES)  - \\sum_{J \\in Z_1} P(M | J_k,1000, GA) + \\sum_{J \\in Z_1} P(M | J_k,1000, ES)\n",
    "\\end{align*}\n",
    "\n",
    "By No-Free Lunch Theorem, we have $ \\sum_{J \\in Z} P(M | J_k,1000, GA) = \\sum_{J \\in Z} P(M | J_k,1000, ES)$, <br> and so\n",
    "\n",
    "\\begin{align*}\n",
    "\\sum_{J \\in Z_2} P(M | J_k,1000, GA)- \\sum_{J \\in Z_2} P(M | J_k,1000, ES)\n",
    "&= 0  - \\sum_{J \\in Z_1} P(M | J_k,1000, GA) + \\sum_{J \\in Z_1} P(M | J_k,1000, ES) \\\\\n",
    "&= - 0.5 + 0.4\\\\\n",
    "&= - 0.1\n",
    "\\end{align*}\n",
    "\n",
    "The difference is thus $0.1$"
   ]
  },
  {
   "cell_type": "markdown",
   "metadata": {},
   "source": [
    "## 3.\tEfficient Global Optimization "
   ]
  },
  {
   "cell_type": "markdown",
   "metadata": {},
   "source": [
    "a) The Expected improvement can be calculated following the formula:\n",
    "\\begin{align*}\n",
    "E[I(x)] = (f_{min} - \\hat{y}(x)) \\Phi\\left(\\frac{f_{min} - \\hat{y}(x)}{\\hat{s}(x)} \\right) + \\hat{s}(x) \\phi\\left(\\frac{f_{min} - \\hat{y}(x)}{\\hat{s}(x)} \\right)\n",
    "\\end{align*}\n",
    "\n",
    "The point with the highest Expected Improvement will be selected, which is $x_c =  0.8451$ with $E[I(x)] = 7.612$."
   ]
  },
  {
   "cell_type": "markdown",
   "metadata": {},
   "source": [
    "b)<br>\n",
    "Advantages:\n",
    "The closed form of the expected improvement function makes it easy to calculate.\n",
    "\n",
    "Disadvantages:\n",
    "Cross-validation is required which can be computationally expensive, and with higher dimensionality the computation requirements grows quickly.\n",
    "Furthermore, finding the maximum expected improvement is not always easy and may take a long time to converge depending on the optimization algorithm employed.\n",
    " "
   ]
  },
  {
   "cell_type": "markdown",
   "metadata": {},
   "source": [
    "## 4. Leave-one-out cross-validation (LOOCV)"
   ]
  },
  {
   "cell_type": "markdown",
   "metadata": {},
   "source": [
    "a) The number of wrong predictions will be 4, which will happen for x = {-0.1, 1.6, 2, 4.1}"
   ]
  },
  {
   "cell_type": "markdown",
   "metadata": {},
   "source": [
    "b)<br>\n",
    "i) We can  compute the number of standard errors that the actual value is away from the predicted value with the following calculation:\n",
    "\\begin{align*}\n",
    "\\frac{y(x_c) - \\hat{y}(x_c)}{\\hat{s}(x_c) }\n",
    "\\end{align*}\n",
    "And the model is valid if the value is within the [-3,+3] interval, since we can be 99.7% confident that the true y lies in this interval.\n",
    "\n",
    "ii)\n",
    "The error is 0 since all the predicted value $\\hat{y}(x_c)$ lies with +/- 3 standard deviation \n",
    "\n",
    "iii) Adjust the model parameters according to the direction and extent of the error."
   ]
  },
  {
   "cell_type": "markdown",
   "metadata": {},
   "source": [
    "## 5.\t(No code) Statistical Comparisons"
   ]
  },
  {
   "cell_type": "markdown",
   "metadata": {},
   "source": []
  },
  {
   "cell_type": "code",
   "execution_count": null,
   "metadata": {
    "collapsed": true
   },
   "outputs": [],
   "source": []
  },
  {
   "cell_type": "markdown",
   "metadata": {
    "collapsed": true
   },
   "source": []
  },
  {
   "cell_type": "markdown",
   "metadata": {},
   "source": [
    "## 6. (No code) Performance Profile"
   ]
  },
  {
   "cell_type": "markdown",
   "metadata": {},
   "source": []
  }
 ],
 "metadata": {
  "kernelspec": {
   "display_name": "Python 3",
   "language": "python",
   "name": "python3"
  },
  "language_info": {
   "codemirror_mode": {
    "name": "ipython",
    "version": 3
   },
   "file_extension": ".py",
   "mimetype": "text/x-python",
   "name": "python",
   "nbconvert_exporter": "python",
   "pygments_lexer": "ipython3",
   "version": "3.6.3"
  }
 },
 "nbformat": 4,
 "nbformat_minor": 2
}
