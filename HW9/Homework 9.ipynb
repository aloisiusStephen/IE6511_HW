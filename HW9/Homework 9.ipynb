{
 "cells": [
  {
   "cell_type": "markdown",
   "metadata": {},
   "source": [
    "# IE6511 Homework 9\n",
    "Done by: Aloisius Stephen and Yang Xiaozhou"
   ]
  },
  {
   "cell_type": "code",
   "execution_count": 1,
   "metadata": {
    "collapsed": true
   },
   "outputs": [],
   "source": [
    "import numpy as np\n",
    "import pandas as pd\n",
    "import matplotlib\n",
    "import matplotlib.pyplot as plt\n",
    "from pySOT import *\n",
    "from poap.controller import SerialController, ThreadController, BasicWorkerThread\n",
    "%matplotlib inline\n",
    "np.random.seed(6511)\n",
    "np.set_printoptions(precision=3)\n",
    "\n",
    "font = {'family' : 'sans-serif',\n",
    "        'weight' : 'normal',\n",
    "        'size'   : 12}\n",
    "\n",
    "matplotlib.rc('font', **font)"
   ]
  },
  {
   "cell_type": "markdown",
   "metadata": {},
   "source": [
    "## 1. Surrogate Optimization with Pareto Selection (SOP) – Center Selection (15 points)"
   ]
  },
  {
   "cell_type": "markdown",
   "metadata": {},
   "source": [
    "a) Yes there are 4 non-dominated fronts\n",
    "\n",
    "1st Front: {10, 6, 5} <br>\n",
    "2nd Front: {2, 1, 4, 12, 3} <br>\n",
    "3rd Front: {7, 9, 8} <br> \n",
    "4th Front: {11}<br>\n"
   ]
  },
  {
   "cell_type": "markdown",
   "metadata": {},
   "source": [
    "b) Center points: {10, 5, 2}"
   ]
  },
  {
   "cell_type": "markdown",
   "metadata": {},
   "source": [
    "c) Center points: {10, 6, 12}"
   ]
  },
  {
   "cell_type": "markdown",
   "metadata": {},
   "source": [
    "## 2.\tNo Free Lunch Theorem (10 points) "
   ]
  },
  {
   "cell_type": "markdown",
   "metadata": {},
   "source": [
    "a) There are $10^{32}$ possible $J_K(x)$, i.e. $|Z| = 10^{32}$"
   ]
  },
  {
   "cell_type": "markdown",
   "metadata": {},
   "source": [
    "b) There are $5^{32}=$ possible $J_K(x)$ with objective value less than 6 forall possible binary string of length 5, i.e. $|G|=5^{32}$\n",
    "\n",
    "One example of just a function would be where $J_K(x) = 5, \\forall x\\in dom(x)$\n",
    "\n",
    "The ratio of $|Z|/|G| = 10^{32}/5^{32} = 2^{32} = 10^{32 \\log 2} \\approx 10^{9.6}$"
   ]
  },
  {
   "cell_type": "markdown",
   "metadata": {},
   "source": [
    "c)It is given that:\n",
    "\\begin{align*}\n",
    "\\sum_{J \\in Z_1} P(M | J_k,1000, GA) = 0.5, \\quad \\sum_{J \\in Z_1} P(M | J_k,1000, ES) = 0.4\n",
    "\\end{align*}\n",
    "\n",
    "Therefore to obtain the difference:\n",
    "\\begin{align*}\n",
    "&\\sum_{J \\in Z_2} P(M | J_k,1000, GA)- \\sum_{J \\in Z_2} P(M | J_k,1000, ES)\\\\\n",
    "= &\\sum_{J \\in Z_2} P(M | J_k,1000, GA) + \\sum_{J \\in Z_1} P(M | J_k,1000, GA)- \\sum_{J \\in Z_1} P(M | J_k,1000, GA)\\\\ &-\\left( \\sum_{J \\in Z_2} P(M | J_k,1000, ES) + \\sum_{J \\in Z_1} P(M | J_k,1000, ES) - \\sum_{J \\in Z_1} P(M | J_k,1000, ES) \\right)\\\\\n",
    "= & \\sum_{J \\in Z} P(M | J_k,1000, GA) - \\sum_{J \\in Z_1} P(M | J_k,1000, GA) -\\left( \\sum_{J \\in Z} P(M | J_k,1000, ES)- \\sum_{J \\in Z_1} P(M | J_k,1000, ES) \\right) \\\\\n",
    "=&  \\sum_{J \\in Z} P(M | J_k,1000, GA) - \\sum_{J \\in Z} P(M | J_k,1000, ES)  - \\sum_{J \\in Z_1} P(M | J_k,1000, GA) + \\sum_{J \\in Z_1} P(M | J_k,1000, ES)\n",
    "\\end{align*}\n",
    "\n",
    "By No-Free Lunch Theorem, we have $ \\sum_{J \\in Z} P(M | J_k,1000, GA) = \\sum_{J \\in Z} P(M | J_k,1000, ES)$, <br> and so\n",
    "\n",
    "\\begin{align*}\n",
    "\\sum_{J \\in Z_2} P(M | J_k,1000, GA)- \\sum_{J \\in Z_2} P(M | J_k,1000, ES)\n",
    "&= 0  - \\sum_{J \\in Z_1} P(M | J_k,1000, GA) + \\sum_{J \\in Z_1} P(M | J_k,1000, ES) \\\\\n",
    "&= - 0.5 + 0.4\\\\\n",
    "&= - 0.1\n",
    "\\end{align*}\n",
    "\n",
    "The difference is thus $0.1$"
   ]
  },
  {
   "cell_type": "markdown",
   "metadata": {},
   "source": [
    "## 3.\tEfficient Global Optimization "
   ]
  },
  {
   "cell_type": "markdown",
   "metadata": {},
   "source": [
    "a) The Expected improvement can be calculated following the formula:\n",
    "\\begin{align*}\n",
    "E[I(x)] = (f_{min} - \\hat{y}(x)) \\Phi\\left(\\frac{f_{min} - \\hat{y}(x)}{\\hat{s}(x)} \\right) + \\hat{s}(x) \\phi\\left(\\frac{f_{min} - \\hat{y}(x)}{\\hat{s}(x)} \\right)\n",
    "\\end{align*}\n",
    "\n",
    "The point with the highest Expected Improvement will be selected, which is $x_c =  0.8451$ with $E[I(x)] = 7.612$."
   ]
  },
  {
   "cell_type": "markdown",
   "metadata": {},
   "source": [
    "b)<br>\n",
    "Advantages:\n",
    "The closed form of the expected improvement function makes it easy to calculate.\n",
    "\n",
    "Disadvantages:\n",
    "Cross-validation is required which can be computationally expensive, and with higher dimensionality the computation requirements grows quickly.\n",
    "Furthermore, finding the maximum expected improvement is not always easy and may take a long time to converge depending on the optimization algorithm employed.\n",
    " "
   ]
  },
  {
   "cell_type": "markdown",
   "metadata": {},
   "source": [
    "## 4. Leave-one-out cross-validation (LOOCV)"
   ]
  },
  {
   "cell_type": "markdown",
   "metadata": {},
   "source": [
    "a) The number of wrong predictions will be 4, which will happen for x = {-0.1, 1.6, 2, 4.1}"
   ]
  },
  {
   "cell_type": "markdown",
   "metadata": {},
   "source": [
    "b)<br>\n",
    "i) We can  compute the number of standard errors that the actual value is away from the predicted value with the following calculation:\n",
    "\\begin{align*}\n",
    "\\frac{y(x_c) - \\hat{y}(x_c)}{\\hat{s}(x_c) }\n",
    "\\end{align*}\n",
    "And the model is valid if the number of standard deviation is within the [-3,+3] interval, since we can be 99.7% confident that the true y lies in this interval.\n",
    "\n",
    "ii)\n",
    "The error is 0 since all the predicted value $\\hat{y}(x_c)$ lies with +/- 3 standard deviation \n",
    "\n",
    "iii) Adjust the model parameters according to the direction to reduce the error."
   ]
  },
  {
   "cell_type": "markdown",
   "metadata": {},
   "source": [
    "## 5.\t(No code) Statistical Comparisons"
   ]
  },
  {
   "cell_type": "code",
   "execution_count": 3,
   "metadata": {
    "collapsed": true
   },
   "outputs": [],
   "source": [
    "data = [[1,91.94,147.90,47.66],\n",
    "        [2,77.13,97.88,150.53],\n",
    "        [3,10.93,39.76,97.04],\n",
    "        [4,18.6,204.48,82.62],\n",
    "        [5,28.63,488.83,99.89],\n",
    "        [6,86.52,113.00,76.52],\n",
    "        [7,64.58,141.97,87.84],\n",
    "        [8,22.23,53.76,51.73],\n",
    "        [9,59.75,408.20,147.51],\n",
    "        [10,134.11,226.95,115.98]]\n",
    "\n",
    "results = pd.DataFrame(data=data, columns=['Trial','SA', 'GA','GS'])"
   ]
  },
  {
   "cell_type": "code",
   "execution_count": 4,
   "metadata": {},
   "outputs": [
    {
     "data": {
      "image/png": "[encoded data removed]",
      "text/plain": [
       "<matplotlib.figure.Figure at 0x113bc08d0>"
      ]
     },
     "metadata": {},
     "output_type": "display_data"
    }
   ],
   "source": [
    "results.boxplot(column=['SA', 'GA','GS'], grid=False)\n",
    "plt.tight_layout()"
   ]
  },
  {
   "cell_type": "markdown",
   "metadata": {},
   "source": [
    "### (i)\n",
    "SA achieves the best mean while GA has the largest variance. \n",
    "\n",
    "GA has two trials which have considerably high values compared to the rest. They can be considered as outliers.\n",
    "\n",
    "SA performs the best since it achieves the best average value, and the variance is comparable to GS. "
   ]
  },
  {
   "cell_type": "markdown",
   "metadata": {},
   "source": [
    "### (ii)"
   ]
  },
  {
   "cell_type": "code",
   "execution_count": 5,
   "metadata": {
    "collapsed": true
   },
   "outputs": [],
   "source": [
    "ecdf = [(i+1)/(len(results.SA.sort_values())+1) for i in range(len(results.SA.sort_values()))]"
   ]
  },
  {
   "cell_type": "code",
   "execution_count": 6,
   "metadata": {},
   "outputs": [
    {
     "data": {
      "image/png": "[encoded data removed]",
      "text/plain": [
       "<matplotlib.figure.Figure at 0x1a1a0b7be0>"
      ]
     },
     "metadata": {},
     "output_type": "display_data"
    }
   ],
   "source": [
    "plt.plot(results.SA.sort_values(), ecdf, '-^')\n",
    "plt.plot(results.GA.sort_values(), ecdf, '-.')\n",
    "plt.plot(results.GS.sort_values(), ecdf, '-*')\n",
    "plt.legend(['SA', 'GA','GS'])\n",
    "plt.tight_layout()"
   ]
  },
  {
   "cell_type": "markdown",
   "metadata": {},
   "source": [
    "SA performs the best, it has stochastic dominance over the other two algorithms. "
   ]
  },
  {
   "cell_type": "markdown",
   "metadata": {},
   "source": [
    "### (iii)"
   ]
  },
  {
   "cell_type": "code",
   "execution_count": 7,
   "metadata": {
    "collapsed": true
   },
   "outputs": [],
   "source": [
    "from scipy import stats"
   ]
  },
  {
   "cell_type": "code",
   "execution_count": 12,
   "metadata": {},
   "outputs": [
    {
     "name": "stdout",
     "output_type": "stream",
     "text": [
      "Null hypothesis: The two algorithms under test have the same average function value.\n",
      "\n",
      "SA vs GA\n",
      "Ttest_indResult(statistic=-2.7360785218425505, pvalue=0.013569206559220122)\n",
      "Conclusion: reject null hypothesis.\n",
      "\n",
      "SA vs GS\n",
      "Ttest_indResult(statistic=-2.1764091445454086, pvalue=0.043083373701567035)\n",
      "Conclusion: reject null hypothesis.\n",
      "\n",
      "GA vs GS\n",
      "Ttest_indResult(statistic=2.0032450315887806, pvalue=0.06044303478479689)\n",
      "Conclusion: Do not reject null hypothesis.\n",
      "\n"
     ]
    }
   ],
   "source": [
    "print('Null hypothesis: The two algorithms under test have the same average function value.\\n')\n",
    "print('SA vs GA')\n",
    "print(stats.ttest_ind(results.SA,results.GA))\n",
    "print('Conclusion: reject null hypothesis.\\n')\n",
    "\n",
    "print('SA vs GS')\n",
    "print(stats.ttest_ind(results.SA,results.GS))\n",
    "print('Conclusion: reject null hypothesis.\\n')\n",
    "\n",
    "print('GA vs GS')\n",
    "print(stats.ttest_ind(results.GA,results.GS))\n",
    "print('Conclusion: Do not reject null hypothesis.\\n')"
   ]
  },
  {
   "cell_type": "markdown",
   "metadata": {},
   "source": [
    "### (iv)\n",
    "\n",
    "Since they have the same starting solution, the samples obtained are not independent anymore. Hence t-test for independent samples is not appropirate here. Instead, t-test for related samples should be carried out."
   ]
  },
  {
   "cell_type": "code",
   "execution_count": 13,
   "metadata": {},
   "outputs": [
    {
     "name": "stdout",
     "output_type": "stream",
     "text": [
      "Null hypothesis: The two algorithms under test have the same average function value.\n",
      "\n",
      "SA vs GS\n",
      "Ttest_relResult(statistic=-2.415643521138205, pvalue=0.03888746724347105)\n",
      "Conclusion: reject null hypothesis.\n",
      "\n"
     ]
    }
   ],
   "source": [
    "print('Null hypothesis: The two algorithms under test have the same average function value.\\n')\n",
    "print('SA vs GS')\n",
    "print(stats.ttest_rel(results.SA,results.GS))\n",
    "print('Conclusion: reject null hypothesis.\\n')"
   ]
  },
  {
   "cell_type": "markdown",
   "metadata": {},
   "source": [
    "It turns out that the hypothesis testing conclusion is the same."
   ]
  },
  {
   "cell_type": "markdown",
   "metadata": {},
   "source": [
    "### (v)\n",
    "Null hypothesis: two sets of samples are from the same distribution. "
   ]
  },
  {
   "cell_type": "code",
   "execution_count": 14,
   "metadata": {},
   "outputs": [
    {
     "name": "stdout",
     "output_type": "stream",
     "text": [
      "Null hypothesis:  The two sets of samples are from the same distribution.\n",
      "\n",
      "SA vs GA\n",
      "RanksumsResult(statistic=-2.721344205666436, pvalue=0.006501702373081825)\n",
      "Conclusion: reject null hypothesis.\n",
      "\n",
      "SA vs GS\n",
      "RanksumsResult(statistic=-1.9654152596479817, pvalue=0.0493661947519327)\n",
      "Conclusion: reject null hypothesis.\n",
      "\n",
      "GA vs GS\n",
      "RanksumsResult(statistic=1.6630436812405998, pvalue=0.09630369202868826)\n",
      "Conclusion: Do not reject null hypothesis.\n",
      "\n"
     ]
    }
   ],
   "source": [
    "print('Null hypothesis:  The two sets of samples are from the same distribution.\\n')\n",
    "print('SA vs GA')\n",
    "print(stats.ranksums(results.SA,results.GA))\n",
    "print('Conclusion: reject null hypothesis.\\n')\n",
    "\n",
    "print('SA vs GS')\n",
    "print(stats.ranksums(results.SA,results.GS))\n",
    "print('Conclusion: reject null hypothesis.\\n')\n",
    "\n",
    "print('GA vs GS')\n",
    "print(stats.ranksums(results.GA,results.GS))\n",
    "print('Conclusion: Do not reject null hypothesis.\\n')"
   ]
  },
  {
   "cell_type": "markdown",
   "metadata": {},
   "source": [
    "The conclusions from Wilcoxson Rank Sum test are the same as those form Part (iii)."
   ]
  },
  {
   "cell_type": "markdown",
   "metadata": {},
   "source": [
    "## 6. (No code) Performance Profile"
   ]
  },
  {
   "cell_type": "markdown",
   "metadata": {},
   "source": [
    "X-axis is the performance ratio of computing time between current solver and the best solver. Y-axis is the percentage of problems that, given a certain level of performance ratio, the current solver is able to solve. \n",
    "\n",
    "For low values of $\\tau$, i.e. 1 to 3, the solvers are allowed similar duration of time as the best solver. In this range, LOQO is the best algorithm as it has the highest percentage of solved problems compared to the other three algorithms\n",
    "\n",
    "As the tolerance increases, MINOS become donimant in the percentage of solvd problems. Hence, given a large computation time, MINOS can solve more problems than the other threes. \n",
    "\n",
    "LANCELOT and SNOPT have been dominated by the other two algorithms throughout the tolorence range. "
   ]
  }
 ],
 "metadata": {
  "kernelspec": {
   "display_name": "Python 3",
   "language": "python",
   "name": "python3"
  },
  "language_info": {
   "codemirror_mode": {
    "name": "ipython",
    "version": 3
   },
   "file_extension": ".py",
   "mimetype": "text/x-python",
   "name": "python",
   "nbconvert_exporter": "python",
   "pygments_lexer": "ipython3",
   "version": "3.6.3"
  }
 },
 "nbformat": 4,
 "nbformat_minor": 2
}
