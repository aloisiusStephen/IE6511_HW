{
 "cells": [
  {
   "cell_type": "markdown",
   "metadata": {},
   "source": [
    "## IE6511 Homework 2 \n",
    "Done by: Aloisius Stephen and Yang Xiaozhou"
   ]
  },
  {
   "cell_type": "code",
   "execution_count": 1,
   "metadata": {
    "collapsed": true
   },
   "outputs": [],
   "source": [
    "import numpy as np\n",
    "import pandas as pd\n",
    "import matplotlib\n",
    "import matplotlib.pyplot as plt\n",
    "%matplotlib inline\n",
    "\n",
    "np.random.seed(100)\n",
    "\n",
    "font = {'family' : 'sans-serif',\n",
    "        'weight' : 'normal',\n",
    "        'size'   : 12}\n",
    "\n",
    "matplotlib.rc('font', **font)"
   ]
  },
  {
   "cell_type": "markdown",
   "metadata": {
    "collapsed": true
   },
   "source": [
    "## 1. Homework on Genetic Algorithm\n",
    "\n",
    "1. A binary string of length 4 <br> <br>\n",
    "\n",
    "2.  Parent one before crossover: 0010, after crossover: 0010<br>\n",
    "    Parent two before crossover: 0011, after crossover: 0011<br> <br>\n",
    "    Parent three before crossover: 0011, after crossover: 1011<br>\n",
    "    Parent four  before crossover: 1010, after crossover: 0010 <br><br>\n",
    "\n",
    "3. Pair one children: 0010 and 0011 <br>\n",
    "   Pair two children: 1011 and 0010 <br> <br>\n",
    "\n",
    "4. After mutation, <br>\n",
    "   Pair one children: 0000 and 0001 <br>\n",
    "   Pair two children: 1001 and 0000 <br> <br>\n",
    "\n",
    "5. x and f(x) values of children: <br>\n",
    "    children one, x = 0, f(x) = 0 <br>\n",
    "    children two, x = 1, f(x) = 1 <br>\n",
    "    children three, x = 9, f(x) = 6561 <br>\n",
    "    children four, x = 0, f(x) = 0 <br>\n",
    "\n",
    "    Total f(x) = 6561+ 1 = 6562\n",
    "\n",
    "    Probability of being selected: <br>\n",
    "    children one, p = 0 <br>\n",
    "    children two, p = 1/6562 <br>\n",
    "    children three, p = 6561/6562 <br>\n",
    "    children four, p = 0 <br> <br>\n",
    "\n",
    "6. Binary strings of parents: <br>\n",
    "    Parent one: 0110 0010 1001 <br>\n",
    "    Parent two: 0001 0010 0011 <br>\n",
    "    \n",
    "    Children binary strings, x value (Crossover point 3): <br>\n",
    "    Children one: 0111 0010 0001, x = (7,2,9) <br>\n",
    "    Children two: 0000 0010 1011, x = (0,2,3) <br>\n",
    "    \n",
    "    \n",
    "    \n"
   ]
  },
  {
   "cell_type": "markdown",
   "metadata": {},
   "source": [
    "# Simulated Annealing\n",
    "\n",
    "## 2. SA Parameter Selection when cost function range = (MaxCost and MinCost) are known\n",
    "<!--no code-->"
   ]
  },
  {
   "cell_type": "markdown",
   "metadata": {},
   "source": [
    "a) \n",
    "\\begin{align}\n",
    "avg \\Delta cost &= 0.25(MaxCost - MinCost) \\\\\n",
    "&= 25\n",
    "\\end{align}\n",
    "\n",
    "\\begin{align}\n",
    "T_0 &= - \\frac{avg \\Delta cost}{\\ln P1} \\\\\n",
    "\\end{align}"
   ]
  },
  {
   "cell_type": "code",
   "execution_count": 2,
   "metadata": {},
   "outputs": [
    {
     "name": "stdout",
     "output_type": "stream",
     "text": [
      "T_0: 27.2839\n"
     ]
    }
   ],
   "source": [
    "P_1 = 0.4\n",
    "T_0 = -25/ np.log(P_1)\n",
    "print(\"T_0: %.4f\" %T_0)"
   ]
  },
  {
   "cell_type": "markdown",
   "metadata": {
    "collapsed": true
   },
   "source": [
    "b)\n",
    "\\begin{align}\n",
    "T_0 &= - \\frac{0.25(MaxCost - MinCost)}{\\ln P1} \\\\\n",
    "\\end{align}\n",
    "\n",
    "c)\n",
    "\\begin{align}\n",
    "T_{final} &= - \\frac{0.25(MaxCost - MinCost)}{\\ln P2} \\\\\n",
    "\\end{align}\n",
    "\n",
    "d)\n",
    "\\begin{align}\n",
    "\\alpha &= \\left \\{- \\frac{0.25(MaxCost - MinCost)}{T_0 \\ln P2} \\right \\}^\\frac{1}{G} \\\\\n",
    "&= \\left \\{- \\frac{25}{ 100 \\ln 0.001} \\right \\}^\\frac{1}{200}\n",
    "\\end{align}"
   ]
  },
  {
   "cell_type": "code",
   "execution_count": 3,
   "metadata": {},
   "outputs": [
    {
     "name": "stdout",
     "output_type": "stream",
     "text": [
      "Alpha: 0.9835\n"
     ]
    }
   ],
   "source": [
    "alpha = np.power(-25/(100*np.log(0.001)), 1/200)\n",
    "print(\"Alpha: %.4f\" %alpha)"
   ]
  },
  {
   "cell_type": "markdown",
   "metadata": {},
   "source": [
    "e)\n",
    "\\begin{align}\n",
    "\\alpha &= \\left \\{- \\frac{0.25(MaxCost - MinCost)}{T_0 \\ln P2} \\right \\}^\\frac{1}{G\\div M} \\\\\n",
    "&= \\left \\{- \\frac{25}{ 100 \\ln 0.001} \\right \\}^\\frac{1}{200 \\div 10} \\\\\n",
    "&= \\left \\{- \\frac{25}{ 100 \\ln 0.001} \\right \\}^\\frac{1}{20}\n",
    "\\end{align}"
   ]
  },
  {
   "cell_type": "code",
   "execution_count": 4,
   "metadata": {},
   "outputs": [
    {
     "name": "stdout",
     "output_type": "stream",
     "text": [
      "Alpha: 0.8471\n"
     ]
    }
   ],
   "source": [
    "alpha = np.power(-25/(100*np.log(0.001)), 1/20)\n",
    "print(\"Alpha: %.4f\" %alpha)"
   ]
  },
  {
   "cell_type": "markdown",
   "metadata": {},
   "source": [
    "## 3. SA Parameter Selection when you have computed AP cost values (no coding necessary)  \n",
    "<!--no code-->"
   ]
  },
  {
   "cell_type": "code",
   "execution_count": 5,
   "metadata": {},
   "outputs": [
    {
     "name": "stdout",
     "output_type": "stream",
     "text": [
      "T_0: 180.3332\n"
     ]
    }
   ],
   "source": [
    "S_0 = 1\n",
    "Avg_Delta_Cost = 1/5 * np.sum([x-40 for x in [60, 50, 65, 75, 45]])\n",
    "P_1 = 0.9\n",
    "T_0 = -Avg_Delta_Cost/ np.log(P_1)\n",
    "print(\"T_0: %.4f\" %T_0)"
   ]
  },
  {
   "cell_type": "code",
   "execution_count": 6,
   "metadata": {},
   "outputs": [
    {
     "data": {
      "text/plain": [
       "19.0"
      ]
     },
     "execution_count": 6,
     "metadata": {},
     "output_type": "execute_result"
    }
   ],
   "source": [
    "Avg_Delta_Cost"
   ]
  },
  {
   "cell_type": "markdown",
   "metadata": {},
   "source": [
    "## 4. SA Implementation\n",
    "<!--CODING-->"
   ]
  },
  {
   "cell_type": "code",
   "execution_count": 7,
   "metadata": {
    "collapsed": true
   },
   "outputs": [],
   "source": [
    "# cost function\n",
    "def cost(S):\n",
    "    \n",
    "    cost = np.power(10,9)-(625-np.power(S[0]-25, 2))*(1600-np.power(S[1]-10, 2))*np.sin((S[0])*np.pi/10)*np.sin((S[1])*np.pi/10)\n",
    "    \n",
    "    return cost\n",
    "\n",
    "\n",
    "# neighbor function\n",
    "def neighbor(S):\n",
    "    \n",
    "    neighbor = S\n",
    "    pos = np.random.randint(0, 2) # randomly pick one of the two decision variables\n",
    "    nei_value = S[pos]\n",
    "    while nei_value == S[pos]:\n",
    "        # randomly generate a neighbor value\n",
    "        nei_value = np.random.randint(max(S[pos]-25, 0), min(S[pos]+25, 127)+1)\n",
    "        pass\n",
    "    neighbor[pos] = nei_value # form the neighbor\n",
    "    \n",
    "    return neighbor\n",
    "\n",
    "\n",
    "# simulated annealing algorithm\n",
    "def SA(S_initial, T_initial, alpha, beta, M, Max_time):\n",
    "    \n",
    "    solution = np.zeros([Max_time,3])\n",
    "\n",
    "    T = T_initial\n",
    "    CurS = S_initial\n",
    "    BestS = CurS\n",
    "    CurCost = cost(CurS)\n",
    "    BestCost = CurCost\n",
    "    time = 0\n",
    "\n",
    "    while time < Max_time:\n",
    "\n",
    "        for i in range(0, M):\n",
    "            NewS = neighbor(CurS)\n",
    "            NewCost = cost(NewS)\n",
    "            diff_cost = NewCost - CurCost\n",
    "            \n",
    "            if diff_cost < 0:\n",
    "                CurS = NewS\n",
    "                CurCost = NewCost\n",
    "                if NewCost < BestCost:\n",
    "                    BestS = NewS\n",
    "                    BestCost = NewCost\n",
    "            elif np.random.random() < np.exp(-diff_cost/T): \n",
    "                CurS = NewS\n",
    "                CurCost = NewCost\n",
    "                \n",
    "            solution[time+i]=time+i+1, CurCost, BestCost\n",
    "        \n",
    "        time = time + M\n",
    "        T = alpha*T\n",
    "        M = beta*M\n",
    "        \n",
    "    solution = pd.DataFrame(solution, columns=['Iteration_Number', 'Current_Cost', 'Best_Cost'])\n",
    "\n",
    "    return (solution, BestS)"
   ]
  },
  {
   "cell_type": "markdown",
   "metadata": {},
   "source": [
    "## 5. Running SA: \n",
    "### a)"
   ]
  },
  {
   "cell_type": "code",
   "execution_count": 21,
   "metadata": {
    "collapsed": true
   },
   "outputs": [],
   "source": [
    "#np.random.seed(100)\n",
    "\n",
    "beta = 1\n",
    "G = 1000\n",
    "M = 1\n",
    "Max_time = 1100\n",
    "P_1 = 0.9\n",
    "P_2 = 0.05\n",
    "AP = 20\n",
    "\n",
    "\n",
    "def SAparameter(beta, G, M, Max_time, P_1, P_2, AP):\n",
    "    \n",
    "    # generate S1\n",
    "    start_s = [np.random.randint(0,128), np.random.randint(0,128)]\n",
    "    AP = AP - 1\n",
    "    \n",
    "    # evaluate neighbors of S1\n",
    "    s_neighbor = pd.DataFrame([[0,0]], columns = [\"s1\", \"s2\"], index = range(AP))\n",
    "    cost_ap = pd.DataFrame([[0]], columns = [\"cost\"], index = range(AP))\n",
    "    \n",
    "    # include start_s itself\n",
    "    s_neighbor.iloc[0] = start_s\n",
    "    cost_ap.iloc[0] = cost(start_s)\n",
    "\n",
    "    for i in range(1, AP):\n",
    "        s_neighbor.iloc[i] = neighbor(start_s)\n",
    "        cost_ap.iloc[i] = cost(s_neighbor.iloc[i])\n",
    "    \n",
    "    neighbor_cost = s_neighbor.join(cost_ap)\n",
    "    avg_delta_cost = np.sum((neighbor_cost.cost-min(neighbor_cost.cost)))/(AP-1)\n",
    "    \n",
    "    # base on AP parameter search, decide on the starting S\n",
    "    S_0 = neighbor_cost.sort_values('cost').head(1).values.ravel()[:2]\n",
    "    \n",
    "    # calculate algorithm parameters\n",
    "    T_0 = -avg_delta_cost/np.log(P_1)\n",
    "    T_2 = -avg_delta_cost/np.log(P_2)\n",
    "    alpha = np.power(np.log(P_1)/np.log(P_2), 1/G)\n",
    "    \n",
    "    param = [T_0,T_2,alpha, avg_delta_cost]\n",
    "    \n",
    "    return param"
   ]
  },
  {
   "cell_type": "code",
   "execution_count": 22,
   "metadata": {},
   "outputs": [
    {
     "name": "stdout",
     "output_type": "stream",
     "text": [
      "T_0: 29392957.69433\n",
      "T_2: 1033756.32286\n",
      "alpha: 0.99666\n",
      "Avg_Delta_Cost: 3096857.17938\n"
     ]
    }
   ],
   "source": [
    "param = SAparameter(beta, G, M, Max_time, P_1, P_2, AP)\n",
    "print('T_0: %.5f' %param[0])\n",
    "print('T_2: %.5f' %param[1])\n",
    "print('alpha: %.5f' %param[2])\n",
    "print('Avg_Delta_Cost: %.5f' %param[3])"
   ]
  },
  {
   "cell_type": "markdown",
   "metadata": {},
   "source": [
    "### b)"
   ]
  },
  {
   "cell_type": "code",
   "execution_count": 23,
   "metadata": {
    "collapsed": true
   },
   "outputs": [],
   "source": [
    "T_0 = param[0]\n",
    "alpha = param[2]\n",
    "\n",
    "Z = [[np.random.randint(0,128), np.random.randint(0,128)] for i in range(30)]"
   ]
  },
  {
   "cell_type": "code",
   "execution_count": 24,
   "metadata": {
    "collapsed": true
   },
   "outputs": [],
   "source": [
    "import time\n",
    "cpu_time = []\n",
    "\n",
    "start_time = time.time()\n",
    "sa_combine = SA(Z[0], T_0, alpha, beta, M, Max_time)[0]\n",
    "cpu_time.append(time.time() - start_time)\n",
    "\n",
    "for i in range(1,30):\n",
    "    start_time = time.time()\n",
    "    sa_combine = sa_combine.append(SA(Z[i], T_0, alpha, beta, M, Max_time)[0])\n",
    "    cpu_time.append(time.time() - start_time)"
   ]
  },
  {
   "cell_type": "code",
   "execution_count": 25,
   "metadata": {},
   "outputs": [
    {
     "data": {
      "image/png": "[encoded data removed]",
      "text/plain": [
       "<matplotlib.figure.Figure at 0x110b22828>"
      ]
     },
     "metadata": {},
     "output_type": "display_data"
    }
   ],
   "source": [
    "#average of Current_Cost and Best_Cost plot\n",
    "plt.figure(figsize=[10,8])\n",
    "plt.plot(sa_combine.groupby('Iteration_Number').mean().Current_Cost, '--')\n",
    "plt.plot(sa_combine.groupby('Iteration_Number').mean().Best_Cost, '*-')\n",
    "plt.xlabel('Iteration')\n",
    "plt.ylabel('Cost')\n",
    "plt.legend(['Current_Cost','Best_Cost'])\n",
    "plt.tight_layout()"
   ]
  },
  {
   "cell_type": "code",
   "execution_count": 26,
   "metadata": {},
   "outputs": [
    {
     "name": "stdout",
     "output_type": "stream",
     "text": [
      "Mean at 1000th iteration: \n",
      "\n",
      "Current_Cost    9.374573e+08\n",
      "Best_Cost       9.304431e+08\n",
      "Name: 1000.0, dtype: float64\n"
     ]
    }
   ],
   "source": [
    "print('Mean at 1000th iteration: \\n')\n",
    "print(sa_combine.groupby('Iteration_Number').mean().loc[1000])"
   ]
  },
  {
   "cell_type": "code",
   "execution_count": 27,
   "metadata": {},
   "outputs": [
    {
     "name": "stdout",
     "output_type": "stream",
     "text": [
      "Std at 1000th iteration: \n",
      "\n",
      "Current_Cost    2.607572e+07\n",
      "Best_Cost       1.987003e+07\n",
      "Name: 1000.0, dtype: float64\n"
     ]
    }
   ],
   "source": [
    "print('Std at 1000th iteration: \\n')\n",
    "print(sa_combine.groupby('Iteration_Number').std().loc[1000])"
   ]
  },
  {
   "cell_type": "code",
   "execution_count": 28,
   "metadata": {},
   "outputs": [
    {
     "name": "stdout",
     "output_type": "stream",
     "text": [
      "Average CPU Time: 0.03457s\n"
     ]
    }
   ],
   "source": [
    "# Average CPU time\n",
    "print(\"Average CPU Time: %.5fs\" %np.mean(cpu_time))"
   ]
  },
  {
   "cell_type": "markdown",
   "metadata": {},
   "source": [
    "### c)"
   ]
  },
  {
   "cell_type": "code",
   "execution_count": 29,
   "metadata": {},
   "outputs": [
    {
     "name": "stdout",
     "output_type": "stream",
     "text": [
      "T_0: 8682575.63928\n",
      "alpha: 0.99787\n"
     ]
    }
   ],
   "source": [
    "#np.random.seed(100)\n",
    "\n",
    "beta = 1\n",
    "G = 1000\n",
    "M = 1\n",
    "Max_time = 1100\n",
    "P_1 = 0.7\n",
    "P_2 = 0.05\n",
    "AP = 20\n",
    "\n",
    "# calculate algorithm parameters\n",
    "# param[3] is to use the same avg_delta_cost from part a\n",
    "T_0 = -param[3]/np.log(P_1)\n",
    "alpha = np.power(np.log(P_1)/np.log(P_2), 1/G)\n",
    "print('T_0: %.5f' %T_0)\n",
    "print('alpha: %.5f' %alpha)"
   ]
  },
  {
   "cell_type": "code",
   "execution_count": 30,
   "metadata": {
    "collapsed": true
   },
   "outputs": [],
   "source": [
    "sa_combine_part_c = SA(Z[0], T_0, alpha, beta, M, Max_time)[0]\n",
    "\n",
    "for i in range(1,30):\n",
    "    sa_combine_part_c = sa_combine_part_c.append(SA(Z[i], T_0, alpha, beta, M, Max_time)[0])"
   ]
  },
  {
   "cell_type": "code",
   "execution_count": 31,
   "metadata": {},
   "outputs": [
    {
     "data": {
      "image/png": "[encoded data removed]",
      "text/plain": [
       "<matplotlib.figure.Figure at 0x110b27278>"
      ]
     },
     "metadata": {},
     "output_type": "display_data"
    }
   ],
   "source": [
    "#average of Current_Cost and Best_Cost plot\n",
    "plt.figure(figsize=[10,8])\n",
    "plt.plot(sa_combine_part_c.groupby('Iteration_Number').mean().Current_Cost, '--')\n",
    "plt.plot(sa_combine_part_c.groupby('Iteration_Number').mean().Best_Cost, '*-')\n",
    "plt.xlabel('Iteration')\n",
    "plt.ylabel('Cost')\n",
    "plt.legend(['Current_Cost','Best_Cost'])\n",
    "plt.tight_layout()"
   ]
  },
  {
   "cell_type": "code",
   "execution_count": 32,
   "metadata": {},
   "outputs": [
    {
     "name": "stdout",
     "output_type": "stream",
     "text": [
      "When P_1 = 0.9:    930443110.363\n",
      "When P_1 = 0.7:    928639254.100\n"
     ]
    }
   ],
   "source": [
    "# Compare the mean at 1100th iteration for two P_1 values\n",
    "print(\"When P_1 = 0.9:    %.3f\" %sa_combine.groupby('Iteration_Number').mean().loc[1100]['Best_Cost'])\n",
    "print(\"When P_1 = 0.7:    %.3f\" %sa_combine_part_c.groupby('Iteration_Number').mean().loc[1100]['Best_Cost'])"
   ]
  },
  {
   "cell_type": "markdown",
   "metadata": {},
   "source": [
    "### d)"
   ]
  },
  {
   "cell_type": "markdown",
   "metadata": {},
   "source": [
    "There aren't much improvement on Best Cost for from 1000th to 1100th iteration:  "
   ]
  },
  {
   "cell_type": "code",
   "execution_count": 33,
   "metadata": {},
   "outputs": [
    {
     "name": "stdout",
     "output_type": "stream",
     "text": [
      "When P1 = 0.9\n",
      "1000th Iteration:    930443110.363\n",
      "1100th Iteration:    930443110.363\n",
      "When P1 = 0.7\n",
      "1000th Iteration:    930489923.274\n",
      "1100th Iteration:    928639254.100\n"
     ]
    }
   ],
   "source": [
    "print('When P1 = 0.9')\n",
    "print(\"1000th Iteration:    %.3f\" %sa_combine.groupby('Iteration_Number').mean().loc[1000]['Best_Cost'])\n",
    "print(\"1100th Iteration:    %.3f\" %sa_combine.groupby('Iteration_Number').mean().loc[1100]['Best_Cost'])\n",
    "print('When P1 = 0.7')\n",
    "print(\"1000th Iteration:    %.3f\" %sa_combine_part_c.groupby('Iteration_Number').mean().loc[1000]['Best_Cost'])\n",
    "print(\"1100th Iteration:    %.3f\" %sa_combine_part_c.groupby('Iteration_Number').mean().loc[1100]['Best_Cost'])"
   ]
  }
 ],
 "metadata": {
  "kernelspec": {
   "display_name": "Python 3",
   "language": "python",
   "name": "python3"
  },
  "language_info": {
   "codemirror_mode": {
    "name": "ipython",
    "version": 3
   },
   "file_extension": ".py",
   "mimetype": "text/x-python",
   "name": "python",
   "nbconvert_exporter": "python",
   "pygments_lexer": "ipython3",
   "version": "3.6.2"
  }
 },
 "nbformat": 4,
 "nbformat_minor": 2
}
